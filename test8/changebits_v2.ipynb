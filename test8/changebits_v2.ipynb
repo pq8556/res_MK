{
 "cells": [
  {
   "cell_type": "code",
   "execution_count": 1,
   "metadata": {},
   "outputs": [],
   "source": [
    "import numpy as np\n",
    "from MK_proc import *"
   ]
  },
  {
   "cell_type": "code",
   "execution_count": 2,
   "metadata": {},
   "outputs": [],
   "source": [
    "dir1 = '/uscms_data/d3/mkim/MKWorkingArea/CMSSW_10_2_0/src/JL/Melrose/P2_CMSSW_10_1_5/src/L1TMuonSimulations/Analyzers/'\n",
    "\n",
    "infile_muon = dir1 + 'test7/histos_tba.20.npz'\n",
    "\n",
    "infile_pileup = dir1 + 'test7/histos_tbd.20.npz'\n",
    "\n",
    "infile_muon_omtf = dir1 + 'test7/histos_tba_omtf.22.npz'\n",
    "\n",
    "infile_pileup_omtf = dir1 + 'test7/histos_tbd_omtf.22.npz'"
   ]
  },
  {
   "cell_type": "code",
   "execution_count": 3,
   "metadata": {},
   "outputs": [],
   "source": [
    "muon_detector_data = np.load(infile_muon)"
   ]
  },
  {
   "cell_type": "code",
   "execution_count": 4,
   "metadata": {},
   "outputs": [
    {
     "name": "stdout",
     "output_type": "stream",
     "text": [
      "[ 22.15171  -18.459759        nan -13.       -13.         7.\n",
      " -24.        25.843662 -16.613783 -13.         0.              nan\n",
      "        nan  10.         6.        25.843662   0.        -5.\n",
      " -16.613783   9.      ]\n",
      "clip performed\n",
      "('max: ', 31.0)\n",
      "('min: ', -31.0)\n",
      "[-31. -30. -29. -28. -27. -26. -25. -24. -23. -22. -21. -20. -19. -18.\n",
      " -17. -16. -15. -14. -13. -12. -11. -10.  -9.  -8.  -7.  -6.  -5.  -4.\n",
      "  -3.  -2.  -1.   0.   1.   2.   3.   4.   5.   6.   7.   8.   9.  10.\n",
      "  11.  12.  13.  14.  15.  16.  17.  18.  19.  20.  21.  22.  23.  24.\n",
      "  25.  26.  27.  28.  29.  30.  31.]\n",
      "[ 22. -19.  nan -13. -13.   7. -24.  25. -17. -13.   0.  nan  nan  10.\n",
      "   6.  25.   0.  -5. -17.   9.]\n"
     ]
    },
    {
     "data": {
      "text/plain": [
       "array([[3.190e+03,       nan, 3.546e+03, ..., 1.000e+00, 1.000e+00,\n",
       "        1.080e+02],\n",
       "       [2.865e+03,       nan, 2.622e+03, ..., 7.000e+00, 0.000e+00,\n",
       "        8.400e+01],\n",
       "       [      nan, 1.415e+03, 1.455e+03, ..., 4.000e+00, 5.000e+00,\n",
       "        4.500e+01],\n",
       "       ...,\n",
       "       [4.054e+03,       nan, 4.016e+03, ..., 4.000e+00, 1.000e+00,\n",
       "        1.260e+02],\n",
       "       [      nan, 3.464e+03, 3.439e+03, ..., 4.000e+00, 5.000e+00,\n",
       "        1.070e+02],\n",
       "       [8.360e+02,       nan, 2.960e+02, ..., 8.000e+00, 3.000e+00,\n",
       "        1.300e+01]], dtype=float32)"
      ]
     },
     "execution_count": 4,
     "metadata": {},
     "output_type": "execute_result"
    }
   ],
   "source": [
    "det_bits(muon_detector_data,ind_det=24,nbits=6,verbose=True)"
   ]
  },
  {
   "cell_type": "code",
   "execution_count": null,
   "metadata": {},
   "outputs": [],
   "source": []
  }
 ],
 "metadata": {
  "kernelspec": {
   "display_name": "Python (myenv)",
   "language": "python",
   "name": "myenv"
  },
  "language_info": {
   "codemirror_mode": {
    "name": "ipython",
    "version": 2
   },
   "file_extension": ".py",
   "mimetype": "text/x-python",
   "name": "python",
   "nbconvert_exporter": "python",
   "pygments_lexer": "ipython2",
   "version": "2.7.11"
  }
 },
 "nbformat": 4,
 "nbformat_minor": 2
}
