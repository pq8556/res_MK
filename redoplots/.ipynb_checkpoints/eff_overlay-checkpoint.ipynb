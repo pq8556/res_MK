{
 "cells": [
  {
   "cell_type": "code",
   "execution_count": 1,
   "metadata": {},
   "outputs": [],
   "source": [
    "import numpy as np\n",
    "import matplotlib.pyplot as plt\n",
    "from numpy.random import normal\n",
    "plt.style.use('tdrstyle.mplstyle')\n",
    "%matplotlib inline"
   ]
  },
  {
   "cell_type": "code",
   "execution_count": null,
   "metadata": {},
   "outputs": [],
   "source": [
    "dir_data = './saveddata/'\n",
    "pt = 25.0"
   ]
  },
  {
   "cell_type": "code",
   "execution_count": null,
   "metadata": {},
   "outputs": [],
   "source": [
    "xdata725 = np.load(dir_data+'model_MK_7bits_eff_xdata15'+str(pt)+'.npy')\n",
    "xerr725 = np.load(dir_data+'model_MK_7bits_eff_xerr15'.npy')\n",
    "ydata725 = np.load(dir_data+'model_MK_7bits_eff_ydata15'.npy')\n",
    "yerr725 = np.load(dir_data+'model_MK_7bits_eff_yerr15'.npy')"
   ]
  },
  {
   "cell_type": "code",
   "execution_count": null,
   "metadata": {},
   "outputs": [],
   "source": [
    "xdata225 = np.load('model_MK_2bits_eff_xdata15.npy')\n",
    "xerr225 = np.load('model_MK_2bits_eff_xerr15.npy')\n",
    "ydata225 = np.load('model_MK_2bits_eff_ydata15.npy')\n",
    "yerr225 = np.load('model_MK_2bits_eff_yerr15.npy')"
   ]
  },
  {
   "cell_type": "code",
   "execution_count": null,
   "metadata": {},
   "outputs": [],
   "source": [
    "plt.figure(figsize=(12,12))\n",
    "\n",
    "plt.errorbar(xdata725, ydata725, xerr=xerr725, yerr=yerr725, color='green', marker=',', capsize=0, lw=1,label='7bits')\n",
    "plt.errorbar(xdata225, ydata225, xerr=xerr225, yerr=yerr225, color='blue', marker=',', capsize=0, lw=1,label='2bits')\n",
    "plt.legend()\n",
    "plt.plot([0,120], [0.9,0.9], ls='dashed', lw=0.5, color='black')\n",
    "plt.xlim(0,120)\n",
    "plt.ylim(0,1.1)\n",
    "plt.xlabel(r'true $p_{T}$ [GeV]')\n",
    "plt.ylabel(r'$\\epsilon$')\n",
    "plt.show()"
   ]
  },
  {
   "cell_type": "code",
   "execution_count": null,
   "metadata": {},
   "outputs": [],
   "source": [
    "y = []\n",
    "n1=1000\n",
    "y.append(normal(2,2,size=n1))\n",
    "y.append(normal(2,2,size=n1))\n",
    "fig, (ax1,ax2) = plt.subplots(nrows=2)\n",
    "ns,bins,patches = ax1.hist(y, normed=False, histtype='stepfilled',bins=50, \\\n",
    "                           alpha=0.2,label=['a','b'])\n",
    "ax1.legend()\n",
    "ax2.plot(bins[:-1],ns[0]/ns[1],alpha=0.4)\n",
    "ax1.set_ylabel('Data')\n",
    "ax2.set_ylabel('Ratio (a/b)')"
   ]
  },
  {
   "cell_type": "code",
   "execution_count": null,
   "metadata": {},
   "outputs": [],
   "source": []
  }
 ],
 "metadata": {
  "kernelspec": {
   "display_name": "Python (myenv)",
   "language": "python",
   "name": "myenv"
  },
  "language_info": {
   "codemirror_mode": {
    "name": "ipython",
    "version": 2
   },
   "file_extension": ".py",
   "mimetype": "text/x-python",
   "name": "python",
   "nbconvert_exporter": "python",
   "pygments_lexer": "ipython2",
   "version": "2.7.11"
  }
 },
 "nbformat": 4,
 "nbformat_minor": 2
}
