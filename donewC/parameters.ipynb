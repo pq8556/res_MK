{
 "cells": [
  {
   "cell_type": "code",
   "execution_count": 1,
   "metadata": {},
   "outputs": [],
   "source": [
    "import numpy as np"
   ]
  },
  {
   "cell_type": "code",
   "execution_count": 2,
   "metadata": {},
   "outputs": [],
   "source": [
    "dir1 = '/uscms_data/d3/mkim/MKWorkingArea/CMSSW_10_2_0/src/JL/Melrose/P2_CMSSW_10_1_5/src/L1TMuonSimulations/Analyzers/'\n",
    "infile_muon = dir1 + 'test7/histos_tba.20.npz'\n",
    "infile_pileup = dir1 + 'test7/histos_tbd.20.npz'\n",
    "infile_muon_omtf = dir1 + 'test7/histos_tba_omtf.22.npz'\n",
    "infile_pileup_omtf = dir1 + 'test7/histos_tbd_omtf.22.npz'"
   ]
  },
  {
   "cell_type": "code",
   "execution_count": 3,
   "metadata": {},
   "outputs": [],
   "source": [
    "loaded = np.load(infile_muon)"
   ]
  },
  {
   "cell_type": "code",
   "execution_count": 4,
   "metadata": {},
   "outputs": [],
   "source": [
    "the_variables_0 = loaded['variables']"
   ]
  },
  {
   "cell_type": "code",
   "execution_count": null,
   "metadata": {},
   "outputs": [],
   "source": [
    "the_parameters_0 = loaded['parameters']"
   ]
  },
  {
   "cell_type": "code",
   "execution_count": null,
   "metadata": {},
   "outputs": [],
   "source": []
  },
  {
   "cell_type": "code",
   "execution_count": 108,
   "metadata": {},
   "outputs": [],
   "source": [
    "a = the_variables_0[:10,0:5]\n",
    "b = the_variables_0[:10,12+0:12+5]"
   ]
  },
  {
   "cell_type": "code",
   "execution_count": 109,
   "metadata": {},
   "outputs": [
    {
     "name": "stdout",
     "output_type": "stream",
     "text": [
      "[[3190.   nan 3546. 3568.   nan]\n",
      " [2865.   nan 2622. 2608.   nan]\n",
      " [  nan 1415. 1455. 1440. 1408.]\n",
      " [3484.   nan 3328. 3328. 3360.]\n",
      " [4867.   nan   nan 4648. 4688.]\n",
      " [3875.   nan 4008. 4024. 4032.]\n",
      " [4308.   nan 3838.   nan   nan]\n",
      " [3426.   nan 3720. 3808.   nan]\n",
      " [4269.   nan 4022. 3976. 3928.]\n",
      " [2096.   nan 1872. 1872. 1910.]]\n",
      "[[20. nan 17. 16. nan]\n",
      " [ 7. nan  6.  6. nan]\n",
      " [nan 70. 70. 69. 69.]\n",
      " [42. nan 41. 40. 40.]\n",
      " [23. nan nan 22. 22.]\n",
      " [23. nan 24. 23. 24.]\n",
      " [21. nan 18. nan nan]\n",
      " [ 9. nan  7.  7. nan]\n",
      " [10. nan  9.  8.  8.]\n",
      " [34. nan 31. 31. 32.]]\n"
     ]
    }
   ],
   "source": [
    "print(a[:10])\n",
    "print(b[:10])"
   ]
  },
  {
   "cell_type": "code",
   "execution_count": 123,
   "metadata": {},
   "outputs": [
    {
     "data": {
      "text/plain": [
       "array([[3190.,   nan, 3546., 3568.,   nan],\n",
       "       [2865.,   nan, 2622., 2608.,   nan],\n",
       "       [  nan, 1415., 1455., 1440., 1408.],\n",
       "       [3484.,   nan, 3328., 3328., 3360.],\n",
       "       [4867.,   nan,   nan, 4648., 4688.],\n",
       "       [3875.,   nan, 4008., 4024., 4032.],\n",
       "       [4308.,   nan, 3838.,   nan,   nan],\n",
       "       [3426.,   nan, 3720., 3808.,   nan],\n",
       "       [4269.,   nan, 4022., 3976., 3928.],\n",
       "       [2096.,   nan, 1872., 1872., 1910.]], dtype=float32)"
      ]
     },
     "execution_count": 123,
     "metadata": {},
     "output_type": "execute_result"
    }
   ],
   "source": [
    "a"
   ]
  },
  {
   "cell_type": "code",
   "execution_count": 110,
   "metadata": {},
   "outputs": [],
   "source": [
    "a1 = a.reshape((10,5,1))\n",
    "b1 = b.reshape((10,5,1))"
   ]
  },
  {
   "cell_type": "code",
   "execution_count": 91,
   "metadata": {},
   "outputs": [
    {
     "name": "stdout",
     "output_type": "stream",
     "text": [
      "[[[3190.]\n",
      "  [  nan]\n",
      "  [3546.]\n",
      "  [3568.]\n",
      "  [  nan]]\n",
      "\n",
      " [[2865.]\n",
      "  [  nan]\n",
      "  [2622.]\n",
      "  [2608.]\n",
      "  [  nan]]]\n"
     ]
    }
   ],
   "source": [
    "print(a1[:2])"
   ]
  },
  {
   "cell_type": "code",
   "execution_count": 121,
   "metadata": {},
   "outputs": [],
   "source": [
    "c = np.insert(b1,[0],a1,axis=2)"
   ]
  },
  {
   "cell_type": "code",
   "execution_count": 122,
   "metadata": {},
   "outputs": [
    {
     "name": "stdout",
     "output_type": "stream",
     "text": [
      "[[[3190.   20.]\n",
      "  [  nan   nan]\n",
      "  [3546.   17.]\n",
      "  [3568.   16.]\n",
      "  [  nan   nan]]\n",
      "\n",
      " [[2865.    7.]\n",
      "  [  nan   nan]\n",
      "  [2622.    6.]\n",
      "  [2608.    6.]\n",
      "  [  nan   nan]]\n",
      "\n",
      " [[  nan   nan]\n",
      "  [1415.   70.]\n",
      "  [1455.   70.]\n",
      "  [1440.   69.]\n",
      "  [1408.   69.]]\n",
      "\n",
      " [[3484.   42.]\n",
      "  [  nan   nan]\n",
      "  [3328.   41.]\n",
      "  [3328.   40.]\n",
      "  [3360.   40.]]\n",
      "\n",
      " [[4867.   23.]\n",
      "  [  nan   nan]\n",
      "  [  nan   nan]\n",
      "  [4648.   22.]\n",
      "  [4688.   22.]]\n",
      "\n",
      " [[3875.   23.]\n",
      "  [  nan   nan]\n",
      "  [4008.   24.]\n",
      "  [4024.   23.]\n",
      "  [4032.   24.]]\n",
      "\n",
      " [[4308.   21.]\n",
      "  [  nan   nan]\n",
      "  [3838.   18.]\n",
      "  [  nan   nan]\n",
      "  [  nan   nan]]\n",
      "\n",
      " [[3426.    9.]\n",
      "  [  nan   nan]\n",
      "  [3720.    7.]\n",
      "  [3808.    7.]\n",
      "  [  nan   nan]]\n",
      "\n",
      " [[4269.   10.]\n",
      "  [  nan   nan]\n",
      "  [4022.    9.]\n",
      "  [3976.    8.]\n",
      "  [3928.    8.]]\n",
      "\n",
      " [[2096.   34.]\n",
      "  [  nan   nan]\n",
      "  [1872.   31.]\n",
      "  [1872.   31.]\n",
      "  [1910.   32.]]]\n"
     ]
    }
   ],
   "source": [
    "print(c)"
   ]
  },
  {
   "cell_type": "code",
   "execution_count": 83,
   "metadata": {},
   "outputs": [
    {
     "name": "stdout",
     "output_type": "stream",
     "text": [
      "[[  20.   nan   17.   16.   nan]\n",
      " [3190.   nan 3546. 3568.   nan]\n",
      " [   7.   nan    6.    6.   nan]\n",
      " [2865.   nan 2622. 2608.   nan]\n",
      " [  nan   70.   70.   69.   69.]\n",
      " [  nan 1415. 1455. 1440. 1408.]\n",
      " [  42.   nan   41.   40.   40.]\n",
      " [3484.   nan 3328. 3328. 3360.]\n",
      " [  23.   nan   nan   22.   22.]\n",
      " [4867.   nan   nan 4648. 4688.]\n",
      " [  23.   nan   24.   23.   24.]\n",
      " [3875.   nan 4008. 4024. 4032.]\n",
      " [  21.   nan   18.   nan   nan]\n",
      " [4308.   nan 3838.   nan   nan]\n",
      " [   9.   nan    7.    7.   nan]\n",
      " [3426.   nan 3720. 3808.   nan]\n",
      " [  10.   nan    9.    8.    8.]\n",
      " [4269.   nan 4022. 3976. 3928.]\n",
      " [  34.   nan   31.   31.   32.]\n",
      " [2096.   nan 1872. 1872. 1910.]]\n"
     ]
    }
   ],
   "source": [
    "print(c)"
   ]
  },
  {
   "cell_type": "code",
   "execution_count": 68,
   "metadata": {},
   "outputs": [
    {
     "name": "stdout",
     "output_type": "stream",
     "text": [
      "[[3190.   nan 3546. 3568.   nan   20.   nan   17.   16.   nan]\n",
      " [2865.   nan 2622. 2608.   nan    7.   nan    6.    6.   nan]\n",
      " [  nan 1415. 1455. 1440. 1408.   nan   70.   70.   69.   69.]\n",
      " [3484.   nan 3328. 3328. 3360.   42.   nan   41.   40.   40.]\n",
      " [4867.   nan   nan 4648. 4688.   23.   nan   nan   22.   22.]\n",
      " [3875.   nan 4008. 4024. 4032.   23.   nan   24.   23.   24.]\n",
      " [4308.   nan 3838.   nan   nan   21.   nan   18.   nan   nan]\n",
      " [3426.   nan 3720. 3808.   nan    9.   nan    7.    7.   nan]\n",
      " [4269.   nan 4022. 3976. 3928.   10.   nan    9.    8.    8.]\n",
      " [2096.   nan 1872. 1872. 1910.   34.   nan   31.   31.   32.]]\n"
     ]
    }
   ],
   "source": [
    "print(c)"
   ]
  },
  {
   "cell_type": "code",
   "execution_count": 69,
   "metadata": {},
   "outputs": [
    {
     "data": {
      "text/plain": [
       "array([[[3190.,   nan, 3546., 3568.,   nan],\n",
       "        [  20.,   nan,   17.,   16.,   nan]],\n",
       "\n",
       "       [[2865.,   nan, 2622., 2608.,   nan],\n",
       "        [   7.,   nan,    6.,    6.,   nan]],\n",
       "\n",
       "       [[  nan, 1415., 1455., 1440., 1408.],\n",
       "        [  nan,   70.,   70.,   69.,   69.]],\n",
       "\n",
       "       [[3484.,   nan, 3328., 3328., 3360.],\n",
       "        [  42.,   nan,   41.,   40.,   40.]],\n",
       "\n",
       "       [[4867.,   nan,   nan, 4648., 4688.],\n",
       "        [  23.,   nan,   nan,   22.,   22.]],\n",
       "\n",
       "       [[3875.,   nan, 4008., 4024., 4032.],\n",
       "        [  23.,   nan,   24.,   23.,   24.]],\n",
       "\n",
       "       [[4308.,   nan, 3838.,   nan,   nan],\n",
       "        [  21.,   nan,   18.,   nan,   nan]],\n",
       "\n",
       "       [[3426.,   nan, 3720., 3808.,   nan],\n",
       "        [   9.,   nan,    7.,    7.,   nan]],\n",
       "\n",
       "       [[4269.,   nan, 4022., 3976., 3928.],\n",
       "        [  10.,   nan,    9.,    8.,    8.]],\n",
       "\n",
       "       [[2096.,   nan, 1872., 1872., 1910.],\n",
       "        [  34.,   nan,   31.,   31.,   32.]]], dtype=float32)"
      ]
     },
     "execution_count": 69,
     "metadata": {},
     "output_type": "execute_result"
    }
   ],
   "source": [
    "c.reshape((10,2,5))"
   ]
  },
  {
   "cell_type": "code",
   "execution_count": 66,
   "metadata": {},
   "outputs": [
    {
     "data": {
      "text/plain": [
       "array([[[3190.,   nan],\n",
       "        [3546., 3568.],\n",
       "        [  nan,   20.],\n",
       "        [  nan,   17.],\n",
       "        [  16.,   nan]],\n",
       "\n",
       "       [[2865.,   nan],\n",
       "        [2622., 2608.],\n",
       "        [  nan,    7.],\n",
       "        [  nan,    6.],\n",
       "        [   6.,   nan]],\n",
       "\n",
       "       [[  nan, 1415.],\n",
       "        [1455., 1440.],\n",
       "        [1408.,   nan],\n",
       "        [  70.,   70.],\n",
       "        [  69.,   69.]],\n",
       "\n",
       "       [[3484.,   nan],\n",
       "        [3328., 3328.],\n",
       "        [3360.,   42.],\n",
       "        [  nan,   41.],\n",
       "        [  40.,   40.]],\n",
       "\n",
       "       [[4867.,   nan],\n",
       "        [  nan, 4648.],\n",
       "        [4688.,   23.],\n",
       "        [  nan,   nan],\n",
       "        [  22.,   22.]],\n",
       "\n",
       "       [[3875.,   nan],\n",
       "        [4008., 4024.],\n",
       "        [4032.,   23.],\n",
       "        [  nan,   24.],\n",
       "        [  23.,   24.]],\n",
       "\n",
       "       [[4308.,   nan],\n",
       "        [3838.,   nan],\n",
       "        [  nan,   21.],\n",
       "        [  nan,   18.],\n",
       "        [  nan,   nan]],\n",
       "\n",
       "       [[3426.,   nan],\n",
       "        [3720., 3808.],\n",
       "        [  nan,    9.],\n",
       "        [  nan,    7.],\n",
       "        [   7.,   nan]],\n",
       "\n",
       "       [[4269.,   nan],\n",
       "        [4022., 3976.],\n",
       "        [3928.,   10.],\n",
       "        [  nan,    9.],\n",
       "        [   8.,    8.]],\n",
       "\n",
       "       [[2096.,   nan],\n",
       "        [1872., 1872.],\n",
       "        [1910.,   34.],\n",
       "        [  nan,   31.],\n",
       "        [  31.,   32.]]], dtype=float32)"
      ]
     },
     "execution_count": 66,
     "metadata": {},
     "output_type": "execute_result"
    }
   ],
   "source": [
    "c.reshape((10,5,2))"
   ]
  },
  {
   "cell_type": "code",
   "execution_count": 55,
   "metadata": {},
   "outputs": [
    {
     "name": "stdout",
     "output_type": "stream",
     "text": [
      "[[[3190.]\n",
      "  [  nan]\n",
      "  [3546.]\n",
      "  [3568.]\n",
      "  [  nan]\n",
      "  [  20.]\n",
      "  [  nan]\n",
      "  [  17.]\n",
      "  [  16.]\n",
      "  [  nan]]\n",
      "\n",
      " [[2865.]\n",
      "  [  nan]\n",
      "  [2622.]\n",
      "  [2608.]\n",
      "  [  nan]\n",
      "  [   7.]\n",
      "  [  nan]\n",
      "  [   6.]\n",
      "  [   6.]\n",
      "  [  nan]]\n",
      "\n",
      " [[  nan]\n",
      "  [1415.]\n",
      "  [1455.]\n",
      "  [1440.]\n",
      "  [1408.]\n",
      "  [  nan]\n",
      "  [  70.]\n",
      "  [  70.]\n",
      "  [  69.]\n",
      "  [  69.]]\n",
      "\n",
      " [[3484.]\n",
      "  [  nan]\n",
      "  [3328.]\n",
      "  [3328.]\n",
      "  [3360.]\n",
      "  [  42.]\n",
      "  [  nan]\n",
      "  [  41.]\n",
      "  [  40.]\n",
      "  [  40.]]\n",
      "\n",
      " [[4867.]\n",
      "  [  nan]\n",
      "  [  nan]\n",
      "  [4648.]\n",
      "  [4688.]\n",
      "  [  23.]\n",
      "  [  nan]\n",
      "  [  nan]\n",
      "  [  22.]\n",
      "  [  22.]]\n",
      "\n",
      " [[3875.]\n",
      "  [  nan]\n",
      "  [4008.]\n",
      "  [4024.]\n",
      "  [4032.]\n",
      "  [  23.]\n",
      "  [  nan]\n",
      "  [  24.]\n",
      "  [  23.]\n",
      "  [  24.]]\n",
      "\n",
      " [[4308.]\n",
      "  [  nan]\n",
      "  [3838.]\n",
      "  [  nan]\n",
      "  [  nan]\n",
      "  [  21.]\n",
      "  [  nan]\n",
      "  [  18.]\n",
      "  [  nan]\n",
      "  [  nan]]\n",
      "\n",
      " [[3426.]\n",
      "  [  nan]\n",
      "  [3720.]\n",
      "  [3808.]\n",
      "  [  nan]\n",
      "  [   9.]\n",
      "  [  nan]\n",
      "  [   7.]\n",
      "  [   7.]\n",
      "  [  nan]]\n",
      "\n",
      " [[4269.]\n",
      "  [  nan]\n",
      "  [4022.]\n",
      "  [3976.]\n",
      "  [3928.]\n",
      "  [  10.]\n",
      "  [  nan]\n",
      "  [   9.]\n",
      "  [   8.]\n",
      "  [   8.]]\n",
      "\n",
      " [[2096.]\n",
      "  [  nan]\n",
      "  [1872.]\n",
      "  [1872.]\n",
      "  [1910.]\n",
      "  [  34.]\n",
      "  [  nan]\n",
      "  [  31.]\n",
      "  [  31.]\n",
      "  [  32.]]]\n"
     ]
    }
   ],
   "source": [
    "print(c)"
   ]
  },
  {
   "cell_type": "code",
   "execution_count": 16,
   "metadata": {},
   "outputs": [],
   "source": [
    "#c.reshape((10,5,2))"
   ]
  },
  {
   "cell_type": "code",
   "execution_count": 17,
   "metadata": {},
   "outputs": [
    {
     "data": {
      "text/plain": [
       "array([[[3190.,   nan, 3546., 3568.,   nan],\n",
       "        [  20.,   nan,   17.,   16.,   nan]],\n",
       "\n",
       "       [[2865.,   nan, 2622., 2608.,   nan],\n",
       "        [   7.,   nan,    6.,    6.,   nan]],\n",
       "\n",
       "       [[  nan, 1415., 1455., 1440., 1408.],\n",
       "        [  nan,   70.,   70.,   69.,   69.]],\n",
       "\n",
       "       [[3484.,   nan, 3328., 3328., 3360.],\n",
       "        [  42.,   nan,   41.,   40.,   40.]],\n",
       "\n",
       "       [[4867.,   nan,   nan, 4648., 4688.],\n",
       "        [  23.,   nan,   nan,   22.,   22.]],\n",
       "\n",
       "       [[3875.,   nan, 4008., 4024., 4032.],\n",
       "        [  23.,   nan,   24.,   23.,   24.]],\n",
       "\n",
       "       [[4308.,   nan, 3838.,   nan,   nan],\n",
       "        [  21.,   nan,   18.,   nan,   nan]],\n",
       "\n",
       "       [[3426.,   nan, 3720., 3808.,   nan],\n",
       "        [   9.,   nan,    7.,    7.,   nan]],\n",
       "\n",
       "       [[4269.,   nan, 4022., 3976., 3928.],\n",
       "        [  10.,   nan,    9.,    8.,    8.]],\n",
       "\n",
       "       [[2096.,   nan, 1872., 1872., 1910.],\n",
       "        [  34.,   nan,   31.,   31.,   32.]]], dtype=float32)"
      ]
     },
     "execution_count": 17,
     "metadata": {},
     "output_type": "execute_result"
    }
   ],
   "source": [
    "c.reshape((10,2,5))"
   ]
  },
  {
   "cell_type": "code",
   "execution_count": 27,
   "metadata": {},
   "outputs": [
    {
     "data": {
      "text/plain": [
       "array([[3190.,   nan, 3546., 3568.,   nan,   20.,   nan,   17.,   16.,\n",
       "          nan],\n",
       "       [2865.,   nan, 2622., 2608.,   nan,    7.,   nan,    6.,    6.,\n",
       "          nan],\n",
       "       [  nan, 1415., 1455., 1440., 1408.,   nan,   70.,   70.,   69.,\n",
       "          69.],\n",
       "       [3484.,   nan, 3328., 3328., 3360.,   42.,   nan,   41.,   40.,\n",
       "          40.],\n",
       "       [4867.,   nan,   nan, 4648., 4688.,   23.,   nan,   nan,   22.,\n",
       "          22.],\n",
       "       [3875.,   nan, 4008., 4024., 4032.,   23.,   nan,   24.,   23.,\n",
       "          24.],\n",
       "       [4308.,   nan, 3838.,   nan,   nan,   21.,   nan,   18.,   nan,\n",
       "          nan],\n",
       "       [3426.,   nan, 3720., 3808.,   nan,    9.,   nan,    7.,    7.,\n",
       "          nan],\n",
       "       [4269.,   nan, 4022., 3976., 3928.,   10.,   nan,    9.,    8.,\n",
       "           8.],\n",
       "       [2096.,   nan, 1872., 1872., 1910.,   34.,   nan,   31.,   31.,\n",
       "          32.]], dtype=float32)"
      ]
     },
     "execution_count": 27,
     "metadata": {},
     "output_type": "execute_result"
    }
   ],
   "source": [
    "np.transpose(c,[0,1])"
   ]
  },
  {
   "cell_type": "code",
   "execution_count": null,
   "metadata": {},
   "outputs": [],
   "source": [
    "input2_phi = the_variables_0[:,0:5]\n",
    "input2_theta = the_variables_0[:,12+0:12+5]"
   ]
  },
  {
   "cell_type": "code",
   "execution_count": null,
   "metadata": {},
   "outputs": [],
   "source": [
    "print(np.nanmax(input2_theta))"
   ]
  },
  {
   "cell_type": "code",
   "execution_count": null,
   "metadata": {},
   "outputs": [],
   "source": [
    "input2_phi1 = input2_phi/5000\n",
    "input2_theta1 = input2_theta/90"
   ]
  },
  {
   "cell_type": "code",
   "execution_count": null,
   "metadata": {},
   "outputs": [],
   "source": [
    "print(input2_phi1[:10])\n",
    "print(input2_theta1[:10])"
   ]
  },
  {
   "cell_type": "code",
   "execution_count": null,
   "metadata": {},
   "outputs": [],
   "source": [
    "print(np.nanmin(input2_phi1),np.nanmax(input2_phi1))\n",
    "print(np.nanmin(input2_theta1),np.nanmax(input2_theta1))"
   ]
  },
  {
   "cell_type": "code",
   "execution_count": null,
   "metadata": {},
   "outputs": [],
   "source": [
    "anan = np.array([1,2,np.nan,4,np.nan]) \n",
    "bnan = np.array([6,7,np.nan,9,np.nan]) \n",
    "hsnan = np.hstack((anan,bnan))"
   ]
  },
  {
   "cell_type": "code",
   "execution_count": null,
   "metadata": {},
   "outputs": [],
   "source": [
    "print(hsnan)"
   ]
  },
  {
   "cell_type": "code",
   "execution_count": null,
   "metadata": {},
   "outputs": [],
   "source": [
    "print(anan*2)"
   ]
  },
  {
   "cell_type": "code",
   "execution_count": null,
   "metadata": {},
   "outputs": [],
   "source": [
    "a = np.where((the_parameters_0[:,0] < 0.05) & (the_parameters_0[:,0] > 0.025))\n",
    "aa = a[0]"
   ]
  },
  {
   "cell_type": "code",
   "execution_count": null,
   "metadata": {},
   "outputs": [],
   "source": [
    "print(aa[:100])"
   ]
  },
  {
   "cell_type": "markdown",
   "metadata": {},
   "source": [
    "phi for CSC 4987.0 ~ 5000 is max, 94~100 is min\n",
    "theta for CSC 88~90 is max, 5~10 is min\n",
    "\n",
    "So divide phi by 5000 -> [0,1]\n",
    "divide theta by 90 -> [0,1]"
   ]
  },
  {
   "cell_type": "code",
   "execution_count": null,
   "metadata": {},
   "outputs": [],
   "source": [
    "print(np.nanmax(the_variables_0[:,12+0]))\n",
    "print(np.nanmax(the_variables_0[:,12+1]))\n",
    "print(np.nanmax(the_variables_0[:,12+2]))\n",
    "print(np.nanmax(the_variables_0[:,12+3]))\n",
    "print(np.nanmax(the_variables_0[:,12+4]))"
   ]
  },
  {
   "cell_type": "code",
   "execution_count": null,
   "metadata": {
    "scrolled": true
   },
   "outputs": [],
   "source": [
    "for e in aa[:100]:\n",
    "    print(the_variables_0[e,0:5])\n",
    "    print(the_variables_0[e,12+0:12+5])\n",
    "    print(the_parameters_0[e,0],1/the_parameters_0[e,0])\n",
    "    print(\"\")"
   ]
  },
  {
   "cell_type": "code",
   "execution_count": null,
   "metadata": {},
   "outputs": [],
   "source": [
    "print(the_parameters_0[:10,0])"
   ]
  },
  {
   "cell_type": "code",
   "execution_count": null,
   "metadata": {},
   "outputs": [],
   "source": [
    "loaded2 = np.load(infile_pileup)"
   ]
  },
  {
   "cell_type": "code",
   "execution_count": null,
   "metadata": {},
   "outputs": [],
   "source": [
    "type(loaded2)"
   ]
  },
  {
   "cell_type": "code",
   "execution_count": null,
   "metadata": {},
   "outputs": [],
   "source": [
    "print(loaded2.keys())"
   ]
  },
  {
   "cell_type": "code",
   "execution_count": null,
   "metadata": {},
   "outputs": [],
   "source": [
    "aux2 = loaded2['aux']"
   ]
  },
  {
   "cell_type": "code",
   "execution_count": null,
   "metadata": {},
   "outputs": [],
   "source": [
    "print(aux2[20000:20010])"
   ]
  },
  {
   "cell_type": "code",
   "execution_count": null,
   "metadata": {},
   "outputs": [],
   "source": []
  }
 ],
 "metadata": {
  "kernelspec": {
   "display_name": "Python (myenv)",
   "language": "python",
   "name": "myenv"
  },
  "language_info": {
   "codemirror_mode": {
    "name": "ipython",
    "version": 2
   },
   "file_extension": ".py",
   "mimetype": "text/x-python",
   "name": "python",
   "nbconvert_exporter": "python",
   "pygments_lexer": "ipython2",
   "version": "2.7.11"
  }
 },
 "nbformat": 4,
 "nbformat_minor": 2
}
