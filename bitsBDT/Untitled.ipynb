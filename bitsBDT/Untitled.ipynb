{
 "cells": [
  {
   "cell_type": "code",
   "execution_count": 1,
   "metadata": {},
   "outputs": [],
   "source": [
    "import numpy as np"
   ]
  },
  {
   "cell_type": "code",
   "execution_count": 2,
   "metadata": {},
   "outputs": [],
   "source": [
    "dir1 = '/uscms_data/d3/mkim/MKWorkingArea/CMSSW_10_2_0/src/JL/Melrose/P2_CMSSW_10_1_5/src/L1TMuonSimulations/Analyzers/'\n",
    "infile_muon = dir1 + 'test7/histos_tba.20.npz'\n",
    "infile_pileup = dir1 + 'test7/histos_tbd.20.npz'"
   ]
  },
  {
   "cell_type": "code",
   "execution_count": 3,
   "metadata": {},
   "outputs": [],
   "source": [
    "loaded = np.load(infile_muon)"
   ]
  },
  {
   "cell_type": "code",
   "execution_count": 4,
   "metadata": {},
   "outputs": [],
   "source": [
    "the_parameters_0 = loaded['parameters']"
   ]
  },
  {
   "cell_type": "code",
   "execution_count": 6,
   "metadata": {},
   "outputs": [
    {
     "name": "stdout",
     "output_type": "stream",
     "text": [
      "[[-0.4456128   1.4571882   2.0295827 ]\n",
      " [ 0.35296607  3.0257308   2.3594687 ]\n",
      " [-0.16274202  3.1199055   1.3629041 ]\n",
      " [ 0.18120895 -3.0759358   1.7223446 ]\n",
      " [ 0.38163847 -0.47497758  2.0206084 ]\n",
      " [-0.14613128 -0.16713923  2.0121217 ]\n",
      " [ 0.4204496   2.57163     2.0506473 ]\n",
      " [-0.34504068  2.725565    2.3357902 ]\n",
      " [ 0.36702442  2.4318233   2.3216465 ]\n",
      " [ 0.26777416 -1.3433052   1.8545057 ]]\n"
     ]
    }
   ],
   "source": [
    "print(the_parameters_0[:10])"
   ]
  },
  {
   "cell_type": "code",
   "execution_count": 7,
   "metadata": {},
   "outputs": [],
   "source": [
    "loaded_p = np.load(infile_pileup)"
   ]
  },
  {
   "cell_type": "code",
   "execution_count": 9,
   "metadata": {},
   "outputs": [
    {
     "data": {
      "text/plain": [
       "['aux', 'variables']"
      ]
     },
     "execution_count": 9,
     "metadata": {},
     "output_type": "execute_result"
    }
   ],
   "source": [
    "loaded_p.keys()"
   ]
  },
  {
   "cell_type": "code",
   "execution_count": 10,
   "metadata": {},
   "outputs": [
    {
     "data": {
      "text/plain": [
       "array([[0.0000000e+00, 0.0000000e+00, 2.0725169e+00,           nan],\n",
       "       [0.0000000e+00, 4.0000000e+00, 2.4969559e+00, 3.0000000e+00],\n",
       "       [0.0000000e+00, 6.0000000e+00, 1.3310752e+00, 2.5000000e+00],\n",
       "       ...,\n",
       "       [9.9000000e+01, 8.4780000e+03, 1.3878529e+00, 3.5000000e+00],\n",
       "       [9.9000000e+01, 8.4790000e+03, 3.3410072e+00, 3.5000000e+00],\n",
       "       [9.9000000e+01, 8.4790000e+03, 3.3410072e+00, 3.5000000e+00]],\n",
       "      dtype=float32)"
      ]
     },
     "execution_count": 10,
     "metadata": {},
     "output_type": "execute_result"
    }
   ],
   "source": [
    "loaded_p['aux']"
   ]
  },
  {
   "cell_type": "code",
   "execution_count": null,
   "metadata": {},
   "outputs": [],
   "source": []
  }
 ],
 "metadata": {
  "kernelspec": {
   "display_name": "Python (myenv)",
   "language": "python",
   "name": "myenv"
  },
  "language_info": {
   "codemirror_mode": {
    "name": "ipython",
    "version": 2
   },
   "file_extension": ".py",
   "mimetype": "text/x-python",
   "name": "python",
   "nbconvert_exporter": "python",
   "pygments_lexer": "ipython2",
   "version": "2.7.11"
  }
 },
 "nbformat": 4,
 "nbformat_minor": 2
}
