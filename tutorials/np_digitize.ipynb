{
 "cells": [
  {
   "cell_type": "code",
   "execution_count": 1,
   "metadata": {},
   "outputs": [],
   "source": [
    "import numpy as np"
   ]
  },
  {
   "cell_type": "code",
   "execution_count": 2,
   "metadata": {},
   "outputs": [],
   "source": [
    "nums = np.random.randint(low=-40, high=40, size=100)"
   ]
  },
  {
   "cell_type": "code",
   "execution_count": 3,
   "metadata": {},
   "outputs": [
    {
     "data": {
      "text/plain": [
       "array([ 22,   6,  10,   0,  -7, -13,  22,   5, -21,  -5, -29,  37,  10,\n",
       "        -3,   0,   7, -34,  19,  14,  38,  -4,  -9,  25, -23, -14,   0,\n",
       "        23,   3,  -2,  -9, -32, -29, -15, -32, -23,  11, -30,  -1,  17,\n",
       "       -37,  -4,  19,  -5, -21, -36,  17, -24,  -8, -22,   5,  32,   4,\n",
       "         5, -10, -28, -34, -14,  39,  14, -27,  -6,  33,  14,   9,   1,\n",
       "       -20,   0, -21, -13,  -3,  31,  14,   1,   6,   7,   0,  38,   5,\n",
       "       -40,  36,  -4,  15,  21,  28,   4,  23, -30, -22, -32,  37, -20,\n",
       "       -30,  -1, -17, -22,  31, -23,   3,  24,   7])"
      ]
     },
     "execution_count": 3,
     "metadata": {},
     "output_type": "execute_result"
    }
   ],
   "source": [
    "nums"
   ]
  },
  {
   "cell_type": "code",
   "execution_count": 11,
   "metadata": {},
   "outputs": [
    {
     "data": {
      "text/plain": [
       "array([ 22,   6,   9,   0,  -6,  -9,  22,   4, -14,  -4, -22,  22,   9,\n",
       "        -2,   0,   6, -22,  14,  14,  22,  -4,  -9,  22, -22, -14,   0,\n",
       "        22,   2,  -2,  -9, -22, -22, -14, -22, -22,   9, -22,  -1,  14,\n",
       "       -22,  -4,  14,  -4, -14, -22,  14, -22,  -6, -22,   4,  22,   4,\n",
       "         4,  -9, -22, -22, -14,  22,  14, -22,  -6,  22,  14,   9,   1,\n",
       "       -14,   0, -14,  -9,  -2,  22,  14,   1,   6,   6,   0,  22,   4,\n",
       "       -22,  22,  -4,  14,  14,  22,   4,  22, -22, -22, -22,  22, -14,\n",
       "       -22,  -1, -14, -22,  22, -22,   2,  22,   6])"
      ]
     },
     "execution_count": 11,
     "metadata": {},
     "output_type": "execute_result"
    }
   ],
   "source": [
    "result"
   ]
  },
  {
   "cell_type": "code",
   "execution_count": 4,
   "metadata": {},
   "outputs": [],
   "source": [
    "bins = [0,1,2,4,6,9,14,22]"
   ]
  },
  {
   "cell_type": "code",
   "execution_count": 12,
   "metadata": {},
   "outputs": [
    {
     "data": {
      "text/plain": [
       "7"
      ]
     },
     "execution_count": 12,
     "metadata": {},
     "output_type": "execute_result"
    }
   ],
   "source": [
    "len(bins)-1"
   ]
  },
  {
   "cell_type": "code",
   "execution_count": 5,
   "metadata": {},
   "outputs": [],
   "source": [
    "binsNp = np.asarray(bins)"
   ]
  },
  {
   "cell_type": "code",
   "execution_count": 6,
   "metadata": {},
   "outputs": [],
   "source": [
    "numsSign = nums.copy()"
   ]
  },
  {
   "cell_type": "code",
   "execution_count": 7,
   "metadata": {},
   "outputs": [],
   "source": [
    "numsSign[numsSign >= 0] = 1\n",
    "numsSign[numsSign < 0] = -1"
   ]
  },
  {
   "cell_type": "code",
   "execution_count": 8,
   "metadata": {},
   "outputs": [],
   "source": [
    "numsAbs = np.abs(nums)"
   ]
  },
  {
   "cell_type": "code",
   "execution_count": 9,
   "metadata": {},
   "outputs": [
    {
     "data": {
      "text/plain": [
       "array([8, 5, 6, 1, 5, 6, 8, 4, 7, 4, 8, 8, 6, 3, 1, 5, 8, 7, 7, 8, 4, 6,\n",
       "       8, 8, 7, 1, 8, 3, 3, 6, 8, 8, 7, 8, 8, 6, 8, 2, 7, 8, 4, 7, 4, 7,\n",
       "       8, 7, 8, 5, 8, 4, 8, 4, 4, 6, 8, 8, 7, 8, 7, 8, 5, 8, 7, 6, 2, 7,\n",
       "       1, 7, 6, 3, 8, 7, 2, 5, 5, 1, 8, 4, 8, 8, 4, 7, 7, 8, 4, 8, 8, 8,\n",
       "       8, 8, 7, 8, 2, 7, 8, 8, 8, 3, 8, 5])"
      ]
     },
     "execution_count": 9,
     "metadata": {},
     "output_type": "execute_result"
    }
   ],
   "source": [
    "bin_ind = np.digitize(numsAbs,binsNp)"
   ]
  },
  {
   "cell_type": "code",
   "execution_count": 10,
   "metadata": {},
   "outputs": [],
   "source": [
    "result = binsNp[bin_ind-1]\n",
    "result = result * numsSign"
   ]
  }
 ],
 "metadata": {
  "kernelspec": {
   "display_name": "Python (myenv)",
   "language": "python",
   "name": "myenv"
  },
  "language_info": {
   "codemirror_mode": {
    "name": "ipython",
    "version": 2
   },
   "file_extension": ".py",
   "mimetype": "text/x-python",
   "name": "python",
   "nbconvert_exporter": "python",
   "pygments_lexer": "ipython2",
   "version": "2.7.11"
  }
 },
 "nbformat": 4,
 "nbformat_minor": 2
}
