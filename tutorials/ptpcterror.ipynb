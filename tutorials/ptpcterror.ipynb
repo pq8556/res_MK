{
 "cells": [
  {
   "cell_type": "code",
   "execution_count": 7,
   "metadata": {},
   "outputs": [],
   "source": [
    "def ptpcterror(pt,pt_acc):\n",
    "    #e.g. 0.15 means 15%\n",
    "    import numpy as np\n",
    "    import scipy.integrate as integrate\n",
    "    from scipy.optimize import fsolve\n",
    "    def gaus_pdf(x,mu,sigma):\n",
    "        return np.exp(-0.5*((x-mu)/sigma)**2)/(sigma*(2*np.pi)**0.5)\n",
    "    gaus1 = gaus_pdf\n",
    "    func = lambda sigma : pt_acc-integrate.quad(lambda x: gaus1(x,0,sigma),-1.25,1.25)[0]\n",
    "    return fsolve(func,1)[0]/pt"
   ]
  },
  {
   "cell_type": "code",
   "execution_count": 12,
   "metadata": {},
   "outputs": [
    {
     "data": {
      "text/plain": [
       "0.08490824417710005"
      ]
     },
     "execution_count": 12,
     "metadata": {},
     "output_type": "execute_result"
    }
   ],
   "source": [
    "ptpcterror(3.25,0.93)"
   ]
  },
  {
   "cell_type": "code",
   "execution_count": null,
   "metadata": {},
   "outputs": [],
   "source": []
  }
 ],
 "metadata": {
  "kernelspec": {
   "display_name": "Python (myenv)",
   "language": "python",
   "name": "myenv"
  },
  "language_info": {
   "codemirror_mode": {
    "name": "ipython",
    "version": 2
   },
   "file_extension": ".py",
   "mimetype": "text/x-python",
   "name": "python",
   "nbconvert_exporter": "python",
   "pygments_lexer": "ipython2",
   "version": "2.7.11"
  }
 },
 "nbformat": 4,
 "nbformat_minor": 2
}
