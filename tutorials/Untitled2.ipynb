{
 "cells": [
  {
   "cell_type": "code",
   "execution_count": 1,
   "metadata": {},
   "outputs": [
    {
     "name": "stderr",
     "output_type": "stream",
     "text": [
      "[INFO    ] Using cmssw CMSSW_10_2_0\n"
     ]
    },
    {
     "name": "stdout",
     "output_type": "stream",
     "text": [
      "('learning_rate = ', 0.0063)\n",
      "('reg_pt_scale = ', 100.0)\n",
      "('discr_loss_weight = ', 20.0)\n"
     ]
    },
    {
     "name": "stderr",
     "output_type": "stream",
     "text": [
      "[INFO    ] Using numpy 1.14.1\n",
      "[INFO    ] Using tensorflow 1.6.0\n",
      "Using TensorFlow backend.\n",
      "[INFO    ] Using keras 2.1.4\n",
      "[INFO    ] .. list devices: [_DeviceAttributes(/job:localhost/replica:0/task:0/device:CPU:0, CPU, 268435456)]\n",
      "[INFO    ] Using scipy 1.1.0\n",
      "[INFO    ] Using sklearn 0.19.1\n",
      "[INFO    ] Using matplotlib 1.5.2\n"
     ]
    }
   ],
   "source": [
    "#MK: to import modules from different directory\n",
    "import sys\n",
    "sys.path.append('../test8/') \n",
    "\n",
    "from nn_globals import *\n",
    "from nn_encode import nlayers, nvariables\n",
    "# MK: nn_data_MK_andrew -> muon_data_split, pileup_data_split-> muon_data, pileup_data -> Encoder_MK(in nn_encode)\n",
    "from nn_data_MK_andrew import muon_data, muon_data_split, pileup_data_split, mix_training_inputs\n",
    "%matplotlib inline\n",
    "\n",
    "# MK\n",
    "from sklearn.model_selection import train_test_split"
   ]
  },
  {
   "cell_type": "code",
   "execution_count": 2,
   "metadata": {},
   "outputs": [],
   "source": [
    "from nn_models import (create_model, create_model_bn, create_model_pruned,\n",
    "                       create_model_sequential, create_model_sequential_bn,\n",
    "                       lr_decay, modelbestcheck, modelbestcheck_weights,\n",
    "                       create_model_bn_charge, create_model_bn_charge_cnn)"
   ]
  },
  {
   "cell_type": "code",
   "execution_count": 3,
   "metadata": {},
   "outputs": [
    {
     "name": "stdout",
     "output_type": "stream",
     "text": [
      "WARNING:tensorflow:From /cvmfs/cms.cern.ch/slc6_amd64_gcc630/external/py2-tensorflow/1.6.0-gnimlf4/lib/python2.7/site-packages/tensorflow/python/util/deprecation.py:497: calling conv1d (from tensorflow.python.ops.nn_ops) with data_format=NHWC is deprecated and will be removed in a future version.\n",
      "Instructions for updating:\n",
      "`NHWC` for data_format is deprecated, use `NWC` instead\n",
      "__________________________________________________________________________________________________\n",
      "Layer (type)                    Output Shape         Param #     Connected to                     \n",
      "==================================================================================================\n",
      "inputDNN (InputLayer)           (None, 39)           0                                            \n",
      "__________________________________________________________________________________________________\n",
      "dense_1 (Dense)                 (None, 60)           2340        inputDNN[0][0]                   \n",
      "__________________________________________________________________________________________________\n",
      "batch_normalization_1 (BatchNor (None, 60)           240         dense_1[0][0]                    \n",
      "__________________________________________________________________________________________________\n",
      "activation_1 (Activation)       (None, 60)           0           batch_normalization_1[0][0]      \n",
      "__________________________________________________________________________________________________\n",
      "inputCNN (InputLayer)           (None, 5, 2)         0                                            \n",
      "__________________________________________________________________________________________________\n",
      "dense_2 (Dense)                 (None, 50)           3000        activation_1[0][0]               \n",
      "__________________________________________________________________________________________________\n",
      "conv1d_1 (Conv1D)               (None, 3, 10)        70          inputCNN[0][0]                   \n",
      "__________________________________________________________________________________________________\n",
      "batch_normalization_2 (BatchNor (None, 50)           200         dense_2[0][0]                    \n",
      "__________________________________________________________________________________________________\n",
      "conv1d_2 (Conv1D)               (None, 2, 10)        210         conv1d_1[0][0]                   \n",
      "__________________________________________________________________________________________________\n",
      "activation_2 (Activation)       (None, 50)           0           batch_normalization_2[0][0]      \n",
      "__________________________________________________________________________________________________\n",
      "flatten_1 (Flatten)             (None, 20)           0           conv1d_2[0][0]                   \n",
      "__________________________________________________________________________________________________\n",
      "concatenate_1 (Concatenate)     (None, 70)           0           activation_2[0][0]               \n",
      "                                                                 flatten_1[0][0]                  \n",
      "__________________________________________________________________________________________________\n",
      "dense_3 (Dense)                 (None, 30)           2100        concatenate_1[0][0]              \n",
      "__________________________________________________________________________________________________\n",
      "batch_normalization_3 (BatchNor (None, 30)           120         dense_3[0][0]                    \n",
      "__________________________________________________________________________________________________\n",
      "activation_3 (Activation)       (None, 30)           0           batch_normalization_3[0][0]      \n",
      "__________________________________________________________________________________________________\n",
      "regr (Dense)                    (None, 1)            31          activation_3[0][0]               \n",
      "__________________________________________________________________________________________________\n",
      "discr (Dense)                   (None, 1)            31          activation_3[0][0]               \n",
      "__________________________________________________________________________________________________\n",
      "charge_prediction (Dense)       (None, 1)            31          activation_3[0][0]               \n",
      "==================================================================================================\n",
      "Total params: 8,373\n",
      "Trainable params: 8,093\n",
      "Non-trainable params: 280\n",
      "__________________________________________________________________________________________________\n"
     ]
    }
   ],
   "source": [
    "model = create_model_bn_charge_cnn(nvariables=nvariables, lr=learning_rate, clipnorm=gradient_clip_norm, l1_reg=l1_reg, l2_reg=l2_reg, discr_loss_weight=discr_loss_weight,\n",
    "                        nodes1=60, nodes2=50, nodes3=30)"
   ]
  },
  {
   "cell_type": "code",
   "execution_count": null,
   "metadata": {},
   "outputs": [],
   "source": []
  }
 ],
 "metadata": {
  "kernelspec": {
   "display_name": "Python (myenv)",
   "language": "python",
   "name": "myenv"
  },
  "language_info": {
   "codemirror_mode": {
    "name": "ipython",
    "version": 2
   },
   "file_extension": ".py",
   "mimetype": "text/x-python",
   "name": "python",
   "nbconvert_exporter": "python",
   "pygments_lexer": "ipython2",
   "version": "2.7.11"
  }
 },
 "nbformat": 4,
 "nbformat_minor": 2
}
