{
 "cells": [
  {
   "cell_type": "code",
   "execution_count": 65,
   "metadata": {},
   "outputs": [
    {
     "name": "stdout",
     "output_type": "stream",
     "text": [
      "Currently running servers:\r\n",
      "http://localhost:8889/?token=18533ce5c40eb8f3429dee30917892855631f2ee356ea786 :: /uscms_data/d3/mkim/MKWorkingArea/CMSSW_10_2_0/src\r\n"
     ]
    }
   ],
   "source": [
    "!jupyter notebook list"
   ]
  },
  {
   "cell_type": "code",
   "execution_count": 58,
   "metadata": {},
   "outputs": [
    {
     "name": "stdout",
     "output_type": "stream",
     "text": [
      "/uscms_data/d3/mkim/MKWorkingArea/CMSSW_10_2_0/src/L1TMuonSimulationsMar2017/Analyzers/MK/tutorials\r\n"
     ]
    }
   ],
   "source": [
    "!pwd -P"
   ]
  },
  {
   "cell_type": "code",
   "execution_count": 59,
   "metadata": {},
   "outputs": [],
   "source": [
    "import sys\n",
    "sys.path.append('../test8/')"
   ]
  },
  {
   "cell_type": "code",
   "execution_count": 61,
   "metadata": {},
   "outputs": [],
   "source": [
    "from MK_proc import *"
   ]
  },
  {
   "cell_type": "code",
   "execution_count": 62,
   "metadata": {},
   "outputs": [],
   "source": [
    "loaded = np.load('/uscms_data/d3/mkim/MKWorkingArea/CMSSW_10_2_0/src/JL/Melrose/P2_CMSSW_10_1_5/src/L1TMuonSimulations/Analyzers/test7/histos_tba.20.npz')"
   ]
  },
  {
   "cell_type": "code",
   "execution_count": 64,
   "metadata": {},
   "outputs": [
    {
     "name": "stderr",
     "output_type": "stream",
     "text": [
      "../test8/MK_proc.py:51: RuntimeWarning: invalid value encountered in greater_equal\n",
      "  numsSign[numsSign >= 0] = 1\n",
      "../test8/MK_proc.py:52: RuntimeWarning: invalid value encountered in less\n",
      "  numsSign[numsSign < 0] = -1\n"
     ]
    },
    {
     "name": "stdout",
     "output_type": "stream",
     "text": [
      "clip performed\n",
      "('max: ', 21.0)\n",
      "('std: ', 12.1432398939986)\n",
      "('min: ', -21.0)\n",
      "[ 0  5 13 21]\n",
      "[ 22.15171   -18.459759          nan -13.        -13.          7.\n",
      " -24.         25.843662  -16.613783  -13.          0.                nan\n",
      "         nan  10.          6.         25.843662    0.         -5.\n",
      " -16.613783    9.          6.         22.15171           nan         nan\n",
      " -17.        -18.459759    0.                nan  13.        -18.459759\n",
      " -12.                nan  -5.                nan         nan   0.\n",
      " -33.                nan -18.                nan         nan         nan\n",
      " -24.          5.5379276 -29.        -13.         -6.         -6.\n",
      "  11.075855  -28.         10.        -18.459759  -19.         35.073544\n",
      "         nan         nan  10.          0.          5.                nan\n",
      "         nan         nan  -9.229879    0.                nan   0.\n",
      "   0.         11.075855    0.         16.613783          nan         nan\n",
      "  18.459759          nan  11.075855  -19.        -14.767807          nan\n",
      "  24.        -11.          0.         -5.5379276  14.        -18.\n",
      "         nan -10.          9.         29.         -9.229879  -22.15171\n",
      "         nan -23.997686    0.          2.         13.         -9.229879\n",
      "  -1.         20.305735          nan -27.689638 ]\n",
      "[ 21. -13.  22. -13. -13.   5. -21.  21. -13. -13.   0.  22.  22.   5.\n",
      "   5.  21.   0.  -5. -13.   5.   5.  21.  22.  22. -13. -13.   0.  22.\n",
      "  13. -13.  -5.  22.  -5.  22.  22.   0. -21.  22. -13.  22.  22.  22.\n",
      " -21.   5. -21. -13.  -5.  -5.   5. -21.   5. -13. -13.  21.  22.  22.\n",
      "   5.   0.   5.  22.  22.  22.  -5.   0.  22.   0.   0.   5.   0.  13.\n",
      "  22.  22.  13.  22.   5. -13. -13.  22.  21.  -5.   0.  -5.  13. -13.\n",
      "  22.  -5.   5.  21.  -5. -21.  22. -21.   0.   0.  13.  -5.  -0.  13.\n",
      "  22. -21.]\n"
     ]
    },
    {
     "data": {
      "text/plain": [
       "(array([[3.190e+03,       nan, 3.546e+03, ..., 1.000e+00, 1.000e+00,\n",
       "         1.080e+02],\n",
       "        [2.865e+03,       nan, 2.622e+03, ..., 7.000e+00, 0.000e+00,\n",
       "         8.400e+01],\n",
       "        [      nan, 1.415e+03, 1.455e+03, ..., 4.000e+00, 5.000e+00,\n",
       "         4.500e+01],\n",
       "        ...,\n",
       "        [4.054e+03,       nan, 4.016e+03, ..., 4.000e+00, 1.000e+00,\n",
       "         1.260e+02],\n",
       "        [      nan, 3.464e+03, 3.439e+03, ..., 4.000e+00, 5.000e+00,\n",
       "         1.070e+02],\n",
       "        [8.360e+02,       nan, 2.960e+02, ..., 8.000e+00, 3.000e+00,\n",
       "         1.300e+01]], dtype=float32), 12.1432398939986)"
      ]
     },
     "execution_count": 64,
     "metadata": {},
     "output_type": "execute_result"
    }
   ],
   "source": [
    "det_bits(loaded,ind_det=24,nbits=31,verbose=True)"
   ]
  },
  {
   "cell_type": "code",
   "execution_count": null,
   "metadata": {},
   "outputs": [],
   "source": []
  }
 ],
 "metadata": {
  "kernelspec": {
   "display_name": "Python (myenv)",
   "language": "python",
   "name": "myenv"
  },
  "language_info": {
   "codemirror_mode": {
    "name": "ipython",
    "version": 2
   },
   "file_extension": ".py",
   "mimetype": "text/x-python",
   "name": "python",
   "nbconvert_exporter": "python",
   "pygments_lexer": "ipython2",
   "version": "2.7.11"
  }
 },
 "nbformat": 4,
 "nbformat_minor": 2
}
