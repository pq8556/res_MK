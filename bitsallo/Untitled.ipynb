{
 "cells": [
  {
   "cell_type": "code",
   "execution_count": 1,
   "metadata": {},
   "outputs": [],
   "source": [
    "import sys\n",
    "sys.path.append('../test8')"
   ]
  },
  {
   "cell_type": "code",
   "execution_count": 2,
   "metadata": {},
   "outputs": [],
   "source": [
    "from MK_proc import det_bits"
   ]
  },
  {
   "cell_type": "code",
   "execution_count": 3,
   "metadata": {},
   "outputs": [],
   "source": [
    "path1 = '/uscms_data/d3/mkim/MKWorkingArea/CMSSW_10_2_0/src/JL/Melrose/P2_CMSSW_10_1_5/src/L1TMuonSimulations/Analyzers/test7/histos_tba.20.npz'"
   ]
  },
  {
   "cell_type": "code",
   "execution_count": 4,
   "metadata": {},
   "outputs": [],
   "source": [
    "import numpy as np"
   ]
  },
  {
   "cell_type": "code",
   "execution_count": 5,
   "metadata": {},
   "outputs": [],
   "source": [
    "a = np.load(path1)"
   ]
  },
  {
   "cell_type": "code",
   "execution_count": 7,
   "metadata": {},
   "outputs": [
    {
     "name": "stdout",
     "output_type": "stream",
     "text": [
      "clip performed\n",
      "('max: ', 3.0)\n",
      "('std: ', 2.7769941547845116)\n",
      "('min: ', -3.0)\n",
      "[0 1 2 3]\n",
      "[ 22.15171  -18.459759        nan -13.       -13.         7.\n",
      " -24.        25.843662 -16.613783 -13.      ]\n",
      "[ 3. -3.  4. -3. -3.  3. -3.  3. -3. -3.]\n"
     ]
    },
    {
     "data": {
      "text/plain": [
       "(array([[3.190e+03,       nan, 3.546e+03, ..., 1.000e+00, 1.000e+00,\n",
       "         1.080e+02],\n",
       "        [2.865e+03,       nan, 2.622e+03, ..., 7.000e+00, 0.000e+00,\n",
       "         8.400e+01],\n",
       "        [      nan, 1.415e+03, 1.455e+03, ..., 4.000e+00, 5.000e+00,\n",
       "         4.500e+01],\n",
       "        ...,\n",
       "        [4.054e+03,       nan, 4.016e+03, ..., 4.000e+00, 1.000e+00,\n",
       "         1.260e+02],\n",
       "        [      nan, 3.464e+03, 3.439e+03, ..., 4.000e+00, 5.000e+00,\n",
       "         1.070e+02],\n",
       "        [8.360e+02,       nan, 2.960e+02, ..., 8.000e+00, 3.000e+00,\n",
       "         1.300e+01]], dtype=float32), 2.7769941547845116)"
      ]
     },
     "execution_count": 7,
     "metadata": {},
     "output_type": "execute_result"
    }
   ],
   "source": [
    "det_bits(a, nbits=5, verbose=True)"
   ]
  },
  {
   "cell_type": "code",
   "execution_count": null,
   "metadata": {},
   "outputs": [],
   "source": []
  }
 ],
 "metadata": {
  "kernelspec": {
   "display_name": "Python (myenv)",
   "language": "python",
   "name": "myenv"
  },
  "language_info": {
   "codemirror_mode": {
    "name": "ipython",
    "version": 2
   },
   "file_extension": ".py",
   "mimetype": "text/x-python",
   "name": "python",
   "nbconvert_exporter": "python",
   "pygments_lexer": "ipython2",
   "version": "2.7.11"
  }
 },
 "nbformat": 4,
 "nbformat_minor": 2
}
