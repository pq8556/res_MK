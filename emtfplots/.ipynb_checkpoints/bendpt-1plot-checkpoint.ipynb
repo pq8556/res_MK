{
 "cells": [
  {
   "cell_type": "markdown",
   "metadata": {},
   "source": [
    "/eos/cms/store/group/dpg_trigger/comm_trigger/L1Trigger/EMTF/ntuples/SingleMuon/FlatNtuple_Run_2018D_v2_2018_10_25_SingleMuon_PU50_postSep26/\n",
    "\n",
    "181025_143812/0000/\n",
    "\n",
    "tuple_1.root ~ tuple_25.root"
   ]
  },
  {
   "cell_type": "code",
   "execution_count": null,
   "metadata": {},
   "outputs": [],
   "source": [
    "!ls"
   ]
  },
  {
   "cell_type": "code",
   "execution_count": 7,
   "metadata": {},
   "outputs": [
    {
     "name": "stdout",
     "output_type": "stream",
     "text": [
      "Welcome to JupyROOT 6.12/07\n"
     ]
    }
   ],
   "source": [
    "import ROOT as R"
   ]
  },
  {
   "cell_type": "code",
   "execution_count": 3,
   "metadata": {},
   "outputs": [],
   "source": [
    "dir1 = \"/uscms_data/d3/mkim/InputFiles/FlatNtuple_Run_2018D_v2_2018_10_25_SingleMuon_PU50_postSep26/181025_143812/0000/\""
   ]
  },
  {
   "cell_type": "code",
   "execution_count": 6,
   "metadata": {
    "collapsed": true
   },
   "outputs": [
    {
     "name": "stdout",
     "output_type": "stream",
     "text": [
      "Opening file: /eos/cms/store/group/dpg_trigger/comm_trigger/L1Trigger/EMTF/ntuples/SingleMuon/FlatNtuple_Run_2018D_v2_2018_10_25_SingleMuon_PU50_postSep26/181025_143812/0000//eos/cms/store/group/dpg_trigger/comm_trigger/L1Trigger/EMTF/ntuples/SingleMuon/FlatNtuple_Run_2018D_v2_2018_10_25_SingleMuon_PU50_postSep26/181025_143812/0000/tuple_1.root\n",
      "Opening file: /eos/cms/store/group/dpg_trigger/comm_trigger/L1Trigger/EMTF/ntuples/SingleMuon/FlatNtuple_Run_2018D_v2_2018_10_25_SingleMuon_PU50_postSep26/181025_143812/0000//eos/cms/store/group/dpg_trigger/comm_trigger/L1Trigger/EMTF/ntuples/SingleMuon/FlatNtuple_Run_2018D_v2_2018_10_25_SingleMuon_PU50_postSep26/181025_143812/0000/tuple_2.root\n",
      "Opening file: /eos/cms/store/group/dpg_trigger/comm_trigger/L1Trigger/EMTF/ntuples/SingleMuon/FlatNtuple_Run_2018D_v2_2018_10_25_SingleMuon_PU50_postSep26/181025_143812/0000//eos/cms/store/group/dpg_trigger/comm_trigger/L1Trigger/EMTF/ntuples/SingleMuon/FlatNtuple_Run_2018D_v2_2018_10_25_SingleMuon_PU50_postSep26/181025_143812/0000/tuple_3.root\n",
      "Opening file: /eos/cms/store/group/dpg_trigger/comm_trigger/L1Trigger/EMTF/ntuples/SingleMuon/FlatNtuple_Run_2018D_v2_2018_10_25_SingleMuon_PU50_postSep26/181025_143812/0000//eos/cms/store/group/dpg_trigger/comm_trigger/L1Trigger/EMTF/ntuples/SingleMuon/FlatNtuple_Run_2018D_v2_2018_10_25_SingleMuon_PU50_postSep26/181025_143812/0000/tuple_4.root\n",
      "Opening file: /eos/cms/store/group/dpg_trigger/comm_trigger/L1Trigger/EMTF/ntuples/SingleMuon/FlatNtuple_Run_2018D_v2_2018_10_25_SingleMuon_PU50_postSep26/181025_143812/0000//eos/cms/store/group/dpg_trigger/comm_trigger/L1Trigger/EMTF/ntuples/SingleMuon/FlatNtuple_Run_2018D_v2_2018_10_25_SingleMuon_PU50_postSep26/181025_143812/0000/tuple_5.root\n",
      "Opening file: /eos/cms/store/group/dpg_trigger/comm_trigger/L1Trigger/EMTF/ntuples/SingleMuon/FlatNtuple_Run_2018D_v2_2018_10_25_SingleMuon_PU50_postSep26/181025_143812/0000//eos/cms/store/group/dpg_trigger/comm_trigger/L1Trigger/EMTF/ntuples/SingleMuon/FlatNtuple_Run_2018D_v2_2018_10_25_SingleMuon_PU50_postSep26/181025_143812/0000/tuple_6.root\n",
      "Opening file: /eos/cms/store/group/dpg_trigger/comm_trigger/L1Trigger/EMTF/ntuples/SingleMuon/FlatNtuple_Run_2018D_v2_2018_10_25_SingleMuon_PU50_postSep26/181025_143812/0000//eos/cms/store/group/dpg_trigger/comm_trigger/L1Trigger/EMTF/ntuples/SingleMuon/FlatNtuple_Run_2018D_v2_2018_10_25_SingleMuon_PU50_postSep26/181025_143812/0000/tuple_7.root\n",
      "Opening file: /eos/cms/store/group/dpg_trigger/comm_trigger/L1Trigger/EMTF/ntuples/SingleMuon/FlatNtuple_Run_2018D_v2_2018_10_25_SingleMuon_PU50_postSep26/181025_143812/0000//eos/cms/store/group/dpg_trigger/comm_trigger/L1Trigger/EMTF/ntuples/SingleMuon/FlatNtuple_Run_2018D_v2_2018_10_25_SingleMuon_PU50_postSep26/181025_143812/0000/tuple_8.root\n",
      "Opening file: /eos/cms/store/group/dpg_trigger/comm_trigger/L1Trigger/EMTF/ntuples/SingleMuon/FlatNtuple_Run_2018D_v2_2018_10_25_SingleMuon_PU50_postSep26/181025_143812/0000//eos/cms/store/group/dpg_trigger/comm_trigger/L1Trigger/EMTF/ntuples/SingleMuon/FlatNtuple_Run_2018D_v2_2018_10_25_SingleMuon_PU50_postSep26/181025_143812/0000/tuple_9.root\n",
      "Opening file: /eos/cms/store/group/dpg_trigger/comm_trigger/L1Trigger/EMTF/ntuples/SingleMuon/FlatNtuple_Run_2018D_v2_2018_10_25_SingleMuon_PU50_postSep26/181025_143812/0000//eos/cms/store/group/dpg_trigger/comm_trigger/L1Trigger/EMTF/ntuples/SingleMuon/FlatNtuple_Run_2018D_v2_2018_10_25_SingleMuon_PU50_postSep26/181025_143812/0000/tuple_10.root\n",
      "Opening file: /eos/cms/store/group/dpg_trigger/comm_trigger/L1Trigger/EMTF/ntuples/SingleMuon/FlatNtuple_Run_2018D_v2_2018_10_25_SingleMuon_PU50_postSep26/181025_143812/0000//eos/cms/store/group/dpg_trigger/comm_trigger/L1Trigger/EMTF/ntuples/SingleMuon/FlatNtuple_Run_2018D_v2_2018_10_25_SingleMuon_PU50_postSep26/181025_143812/0000/tuple_11.root\n",
      "Opening file: /eos/cms/store/group/dpg_trigger/comm_trigger/L1Trigger/EMTF/ntuples/SingleMuon/FlatNtuple_Run_2018D_v2_2018_10_25_SingleMuon_PU50_postSep26/181025_143812/0000//eos/cms/store/group/dpg_trigger/comm_trigger/L1Trigger/EMTF/ntuples/SingleMuon/FlatNtuple_Run_2018D_v2_2018_10_25_SingleMuon_PU50_postSep26/181025_143812/0000/tuple_12.root\n",
      "Opening file: /eos/cms/store/group/dpg_trigger/comm_trigger/L1Trigger/EMTF/ntuples/SingleMuon/FlatNtuple_Run_2018D_v2_2018_10_25_SingleMuon_PU50_postSep26/181025_143812/0000//eos/cms/store/group/dpg_trigger/comm_trigger/L1Trigger/EMTF/ntuples/SingleMuon/FlatNtuple_Run_2018D_v2_2018_10_25_SingleMuon_PU50_postSep26/181025_143812/0000/tuple_13.root\n",
      "Opening file: /eos/cms/store/group/dpg_trigger/comm_trigger/L1Trigger/EMTF/ntuples/SingleMuon/FlatNtuple_Run_2018D_v2_2018_10_25_SingleMuon_PU50_postSep26/181025_143812/0000//eos/cms/store/group/dpg_trigger/comm_trigger/L1Trigger/EMTF/ntuples/SingleMuon/FlatNtuple_Run_2018D_v2_2018_10_25_SingleMuon_PU50_postSep26/181025_143812/0000/tuple_14.root\n",
      "Opening file: /eos/cms/store/group/dpg_trigger/comm_trigger/L1Trigger/EMTF/ntuples/SingleMuon/FlatNtuple_Run_2018D_v2_2018_10_25_SingleMuon_PU50_postSep26/181025_143812/0000//eos/cms/store/group/dpg_trigger/comm_trigger/L1Trigger/EMTF/ntuples/SingleMuon/FlatNtuple_Run_2018D_v2_2018_10_25_SingleMuon_PU50_postSep26/181025_143812/0000/tuple_15.root\n",
      "Opening file: /eos/cms/store/group/dpg_trigger/comm_trigger/L1Trigger/EMTF/ntuples/SingleMuon/FlatNtuple_Run_2018D_v2_2018_10_25_SingleMuon_PU50_postSep26/181025_143812/0000//eos/cms/store/group/dpg_trigger/comm_trigger/L1Trigger/EMTF/ntuples/SingleMuon/FlatNtuple_Run_2018D_v2_2018_10_25_SingleMuon_PU50_postSep26/181025_143812/0000/tuple_16.root\n",
      "Opening file: /eos/cms/store/group/dpg_trigger/comm_trigger/L1Trigger/EMTF/ntuples/SingleMuon/FlatNtuple_Run_2018D_v2_2018_10_25_SingleMuon_PU50_postSep26/181025_143812/0000//eos/cms/store/group/dpg_trigger/comm_trigger/L1Trigger/EMTF/ntuples/SingleMuon/FlatNtuple_Run_2018D_v2_2018_10_25_SingleMuon_PU50_postSep26/181025_143812/0000/tuple_17.root\n",
      "Opening file: /eos/cms/store/group/dpg_trigger/comm_trigger/L1Trigger/EMTF/ntuples/SingleMuon/FlatNtuple_Run_2018D_v2_2018_10_25_SingleMuon_PU50_postSep26/181025_143812/0000//eos/cms/store/group/dpg_trigger/comm_trigger/L1Trigger/EMTF/ntuples/SingleMuon/FlatNtuple_Run_2018D_v2_2018_10_25_SingleMuon_PU50_postSep26/181025_143812/0000/tuple_18.root\n",
      "Opening file: /eos/cms/store/group/dpg_trigger/comm_trigger/L1Trigger/EMTF/ntuples/SingleMuon/FlatNtuple_Run_2018D_v2_2018_10_25_SingleMuon_PU50_postSep26/181025_143812/0000//eos/cms/store/group/dpg_trigger/comm_trigger/L1Trigger/EMTF/ntuples/SingleMuon/FlatNtuple_Run_2018D_v2_2018_10_25_SingleMuon_PU50_postSep26/181025_143812/0000/tuple_19.root\n",
      "Opening file: /eos/cms/store/group/dpg_trigger/comm_trigger/L1Trigger/EMTF/ntuples/SingleMuon/FlatNtuple_Run_2018D_v2_2018_10_25_SingleMuon_PU50_postSep26/181025_143812/0000//eos/cms/store/group/dpg_trigger/comm_trigger/L1Trigger/EMTF/ntuples/SingleMuon/FlatNtuple_Run_2018D_v2_2018_10_25_SingleMuon_PU50_postSep26/181025_143812/0000/tuple_20.root\n",
      "Opening file: /eos/cms/store/group/dpg_trigger/comm_trigger/L1Trigger/EMTF/ntuples/SingleMuon/FlatNtuple_Run_2018D_v2_2018_10_25_SingleMuon_PU50_postSep26/181025_143812/0000//eos/cms/store/group/dpg_trigger/comm_trigger/L1Trigger/EMTF/ntuples/SingleMuon/FlatNtuple_Run_2018D_v2_2018_10_25_SingleMuon_PU50_postSep26/181025_143812/0000/tuple_21.root\n",
      "Opening file: /eos/cms/store/group/dpg_trigger/comm_trigger/L1Trigger/EMTF/ntuples/SingleMuon/FlatNtuple_Run_2018D_v2_2018_10_25_SingleMuon_PU50_postSep26/181025_143812/0000//eos/cms/store/group/dpg_trigger/comm_trigger/L1Trigger/EMTF/ntuples/SingleMuon/FlatNtuple_Run_2018D_v2_2018_10_25_SingleMuon_PU50_postSep26/181025_143812/0000/tuple_22.root\n",
      "Opening file: /eos/cms/store/group/dpg_trigger/comm_trigger/L1Trigger/EMTF/ntuples/SingleMuon/FlatNtuple_Run_2018D_v2_2018_10_25_SingleMuon_PU50_postSep26/181025_143812/0000//eos/cms/store/group/dpg_trigger/comm_trigger/L1Trigger/EMTF/ntuples/SingleMuon/FlatNtuple_Run_2018D_v2_2018_10_25_SingleMuon_PU50_postSep26/181025_143812/0000/tuple_23.root\n",
      "Opening file: /eos/cms/store/group/dpg_trigger/comm_trigger/L1Trigger/EMTF/ntuples/SingleMuon/FlatNtuple_Run_2018D_v2_2018_10_25_SingleMuon_PU50_postSep26/181025_143812/0000//eos/cms/store/group/dpg_trigger/comm_trigger/L1Trigger/EMTF/ntuples/SingleMuon/FlatNtuple_Run_2018D_v2_2018_10_25_SingleMuon_PU50_postSep26/181025_143812/0000/tuple_24.root\n",
      "Opening file: /eos/cms/store/group/dpg_trigger/comm_trigger/L1Trigger/EMTF/ntuples/SingleMuon/FlatNtuple_Run_2018D_v2_2018_10_25_SingleMuon_PU50_postSep26/181025_143812/0000//eos/cms/store/group/dpg_trigger/comm_trigger/L1Trigger/EMTF/ntuples/SingleMuon/FlatNtuple_Run_2018D_v2_2018_10_25_SingleMuon_PU50_postSep26/181025_143812/0000/tuple_25.root\n"
     ]
    }
   ],
   "source": [
    "file_names = []\n",
    "for i in range(25):\n",
    "    file_names.append(dir1+'tuple_%d.root' % (i+1))\n",
    "    print('Opening file: '+dir1+file_names[i])"
   ]
  },
  {
   "cell_type": "code",
   "execution_count": 8,
   "metadata": {},
   "outputs": [],
   "source": [
    "in_chains = []\n",
    "for i in range(len(file_names)):\n",
    "    in_chains.append(R.TChain('FlatNtupleData/tree'))\n",
    "    in_chains[i].Add(file_names[i])"
   ]
  },
  {
   "cell_type": "code",
   "execution_count": 9,
   "metadata": {},
   "outputs": [
    {
     "data": {
      "text/plain": [
       "[<ROOT.TChain object (\"FlatNtupleData/tree\") at 0x8ae85b0>,\n",
       " <ROOT.TChain object (\"FlatNtupleData/tree\") at 0x8a96680>,\n",
       " <ROOT.TChain object (\"FlatNtupleData/tree\") at 0x8ac5b90>,\n",
       " <ROOT.TChain object (\"FlatNtupleData/tree\") at 0x8ab5380>,\n",
       " <ROOT.TChain object (\"FlatNtupleData/tree\") at 0x8ac7630>,\n",
       " <ROOT.TChain object (\"FlatNtupleData/tree\") at 0x8ad87c0>,\n",
       " <ROOT.TChain object (\"FlatNtupleData/tree\") at 0x8acac30>,\n",
       " <ROOT.TChain object (\"FlatNtupleData/tree\") at 0x8b171c0>,\n",
       " <ROOT.TChain object (\"FlatNtupleData/tree\") at 0x8a845d0>,\n",
       " <ROOT.TChain object (\"FlatNtupleData/tree\") at 0x7794460>,\n",
       " <ROOT.TChain object (\"FlatNtupleData/tree\") at 0x4c41bb0>,\n",
       " <ROOT.TChain object (\"FlatNtupleData/tree\") at 0x8a999a0>,\n",
       " <ROOT.TChain object (\"FlatNtupleData/tree\") at 0x8ac52e0>,\n",
       " <ROOT.TChain object (\"FlatNtupleData/tree\") at 0x8ab3fc0>,\n",
       " <ROOT.TChain object (\"FlatNtupleData/tree\") at 0x8ad7d10>,\n",
       " <ROOT.TChain object (\"FlatNtupleData/tree\") at 0x8a8c6f0>,\n",
       " <ROOT.TChain object (\"FlatNtupleData/tree\") at 0x8a9b1f0>,\n",
       " <ROOT.TChain object (\"FlatNtupleData/tree\") at 0x8ab7430>,\n",
       " <ROOT.TChain object (\"FlatNtupleData/tree\") at 0x8aef370>,\n",
       " <ROOT.TChain object (\"FlatNtupleData/tree\") at 0x8a9ec10>,\n",
       " <ROOT.TChain object (\"FlatNtupleData/tree\") at 0x8aedef0>,\n",
       " <ROOT.TChain object (\"FlatNtupleData/tree\") at 0x4c3c4d0>,\n",
       " <ROOT.TChain object (\"FlatNtupleData/tree\") at 0x4c3d470>,\n",
       " <ROOT.TChain object (\"FlatNtupleData/tree\") at 0x8b060f0>,\n",
       " <ROOT.TChain object (\"FlatNtupleData/tree\") at 0x8b0a1e0>]"
      ]
     },
     "execution_count": 9,
     "metadata": {},
     "output_type": "execute_result"
    },
    {
     "name": "stderr",
     "output_type": "stream",
     "text": [
      "Error in <TFile::TFile>: file /eos/cms/store/group/dpg_trigger/comm_trigger/L1Trigger/EMTF/ntuples/SingleMuon/FlatNtuple_Run_2018D_v2_2018_10_25_SingleMuon_PU50_postSep26/181025_143812/0000/tuple_1.root does not exist\n",
      "Error in <TFile::TFile>: file /eos/cms/store/group/dpg_trigger/comm_trigger/L1Trigger/EMTF/ntuples/SingleMuon/FlatNtuple_Run_2018D_v2_2018_10_25_SingleMuon_PU50_postSep26/181025_143812/0000/tuple_1.root does not exist\n",
      "Error in <TFile::TFile>: file /eos/cms/store/group/dpg_trigger/comm_trigger/L1Trigger/EMTF/ntuples/SingleMuon/FlatNtuple_Run_2018D_v2_2018_10_25_SingleMuon_PU50_postSep26/181025_143812/0000/tuple_1.root does not exist\n",
      "Error in <TFile::TFile>: file /eos/cms/store/group/dpg_trigger/comm_trigger/L1Trigger/EMTF/ntuples/SingleMuon/FlatNtuple_Run_2018D_v2_2018_10_25_SingleMuon_PU50_postSep26/181025_143812/0000/tuple_1.root does not exist\n",
      "Error in <TFile::TFile>: file /eos/cms/store/group/dpg_trigger/comm_trigger/L1Trigger/EMTF/ntuples/SingleMuon/FlatNtuple_Run_2018D_v2_2018_10_25_SingleMuon_PU50_postSep26/181025_143812/0000/tuple_2.root does not exist\n",
      "Error in <TFile::TFile>: file /eos/cms/store/group/dpg_trigger/comm_trigger/L1Trigger/EMTF/ntuples/SingleMuon/FlatNtuple_Run_2018D_v2_2018_10_25_SingleMuon_PU50_postSep26/181025_143812/0000/tuple_2.root does not exist\n",
      "Error in <TFile::TFile>: file /eos/cms/store/group/dpg_trigger/comm_trigger/L1Trigger/EMTF/ntuples/SingleMuon/FlatNtuple_Run_2018D_v2_2018_10_25_SingleMuon_PU50_postSep26/181025_143812/0000/tuple_2.root does not exist\n",
      "Error in <TFile::TFile>: file /eos/cms/store/group/dpg_trigger/comm_trigger/L1Trigger/EMTF/ntuples/SingleMuon/FlatNtuple_Run_2018D_v2_2018_10_25_SingleMuon_PU50_postSep26/181025_143812/0000/tuple_2.root does not exist\n",
      "Error in <TFile::TFile>: file /eos/cms/store/group/dpg_trigger/comm_trigger/L1Trigger/EMTF/ntuples/SingleMuon/FlatNtuple_Run_2018D_v2_2018_10_25_SingleMuon_PU50_postSep26/181025_143812/0000/tuple_3.root does not exist\n",
      "Error in <TFile::TFile>: file /eos/cms/store/group/dpg_trigger/comm_trigger/L1Trigger/EMTF/ntuples/SingleMuon/FlatNtuple_Run_2018D_v2_2018_10_25_SingleMuon_PU50_postSep26/181025_143812/0000/tuple_3.root does not exist\n",
      "Error in <TFile::TFile>: file /eos/cms/store/group/dpg_trigger/comm_trigger/L1Trigger/EMTF/ntuples/SingleMuon/FlatNtuple_Run_2018D_v2_2018_10_25_SingleMuon_PU50_postSep26/181025_143812/0000/tuple_3.root does not exist\n",
      "Error in <TFile::TFile>: file /eos/cms/store/group/dpg_trigger/comm_trigger/L1Trigger/EMTF/ntuples/SingleMuon/FlatNtuple_Run_2018D_v2_2018_10_25_SingleMuon_PU50_postSep26/181025_143812/0000/tuple_3.root does not exist\n",
      "Error in <TFile::TFile>: file /eos/cms/store/group/dpg_trigger/comm_trigger/L1Trigger/EMTF/ntuples/SingleMuon/FlatNtuple_Run_2018D_v2_2018_10_25_SingleMuon_PU50_postSep26/181025_143812/0000/tuple_4.root does not exist\n",
      "Error in <TFile::TFile>: file /eos/cms/store/group/dpg_trigger/comm_trigger/L1Trigger/EMTF/ntuples/SingleMuon/FlatNtuple_Run_2018D_v2_2018_10_25_SingleMuon_PU50_postSep26/181025_143812/0000/tuple_4.root does not exist\n",
      "Error in <TFile::TFile>: file /eos/cms/store/group/dpg_trigger/comm_trigger/L1Trigger/EMTF/ntuples/SingleMuon/FlatNtuple_Run_2018D_v2_2018_10_25_SingleMuon_PU50_postSep26/181025_143812/0000/tuple_4.root does not exist\n",
      "Error in <TFile::TFile>: file /eos/cms/store/group/dpg_trigger/comm_trigger/L1Trigger/EMTF/ntuples/SingleMuon/FlatNtuple_Run_2018D_v2_2018_10_25_SingleMuon_PU50_postSep26/181025_143812/0000/tuple_4.root does not exist\n",
      "Error in <TFile::TFile>: file /eos/cms/store/group/dpg_trigger/comm_trigger/L1Trigger/EMTF/ntuples/SingleMuon/FlatNtuple_Run_2018D_v2_2018_10_25_SingleMuon_PU50_postSep26/181025_143812/0000/tuple_5.root does not exist\n",
      "Error in <TFile::TFile>: file /eos/cms/store/group/dpg_trigger/comm_trigger/L1Trigger/EMTF/ntuples/SingleMuon/FlatNtuple_Run_2018D_v2_2018_10_25_SingleMuon_PU50_postSep26/181025_143812/0000/tuple_5.root does not exist\n",
      "Error in <TFile::TFile>: file /eos/cms/store/group/dpg_trigger/comm_trigger/L1Trigger/EMTF/ntuples/SingleMuon/FlatNtuple_Run_2018D_v2_2018_10_25_SingleMuon_PU50_postSep26/181025_143812/0000/tuple_5.root does not exist\n",
      "Error in <TFile::TFile>: file /eos/cms/store/group/dpg_trigger/comm_trigger/L1Trigger/EMTF/ntuples/SingleMuon/FlatNtuple_Run_2018D_v2_2018_10_25_SingleMuon_PU50_postSep26/181025_143812/0000/tuple_5.root does not exist\n",
      "Error in <TFile::TFile>: file /eos/cms/store/group/dpg_trigger/comm_trigger/L1Trigger/EMTF/ntuples/SingleMuon/FlatNtuple_Run_2018D_v2_2018_10_25_SingleMuon_PU50_postSep26/181025_143812/0000/tuple_6.root does not exist\n",
      "Error in <TFile::TFile>: file /eos/cms/store/group/dpg_trigger/comm_trigger/L1Trigger/EMTF/ntuples/SingleMuon/FlatNtuple_Run_2018D_v2_2018_10_25_SingleMuon_PU50_postSep26/181025_143812/0000/tuple_6.root does not exist\n",
      "Error in <TFile::TFile>: file /eos/cms/store/group/dpg_trigger/comm_trigger/L1Trigger/EMTF/ntuples/SingleMuon/FlatNtuple_Run_2018D_v2_2018_10_25_SingleMuon_PU50_postSep26/181025_143812/0000/tuple_6.root does not exist\n",
      "Error in <TFile::TFile>: file /eos/cms/store/group/dpg_trigger/comm_trigger/L1Trigger/EMTF/ntuples/SingleMuon/FlatNtuple_Run_2018D_v2_2018_10_25_SingleMuon_PU50_postSep26/181025_143812/0000/tuple_6.root does not exist\n",
      "Error in <TFile::TFile>: file /eos/cms/store/group/dpg_trigger/comm_trigger/L1Trigger/EMTF/ntuples/SingleMuon/FlatNtuple_Run_2018D_v2_2018_10_25_SingleMuon_PU50_postSep26/181025_143812/0000/tuple_7.root does not exist\n",
      "Error in <TFile::TFile>: file /eos/cms/store/group/dpg_trigger/comm_trigger/L1Trigger/EMTF/ntuples/SingleMuon/FlatNtuple_Run_2018D_v2_2018_10_25_SingleMuon_PU50_postSep26/181025_143812/0000/tuple_7.root does not exist\n",
      "Error in <TFile::TFile>: file /eos/cms/store/group/dpg_trigger/comm_trigger/L1Trigger/EMTF/ntuples/SingleMuon/FlatNtuple_Run_2018D_v2_2018_10_25_SingleMuon_PU50_postSep26/181025_143812/0000/tuple_7.root does not exist\n",
      "Error in <TFile::TFile>: file /eos/cms/store/group/dpg_trigger/comm_trigger/L1Trigger/EMTF/ntuples/SingleMuon/FlatNtuple_Run_2018D_v2_2018_10_25_SingleMuon_PU50_postSep26/181025_143812/0000/tuple_7.root does not exist\n",
      "Error in <TFile::TFile>: file /eos/cms/store/group/dpg_trigger/comm_trigger/L1Trigger/EMTF/ntuples/SingleMuon/FlatNtuple_Run_2018D_v2_2018_10_25_SingleMuon_PU50_postSep26/181025_143812/0000/tuple_8.root does not exist\n",
      "Error in <TFile::TFile>: file /eos/cms/store/group/dpg_trigger/comm_trigger/L1Trigger/EMTF/ntuples/SingleMuon/FlatNtuple_Run_2018D_v2_2018_10_25_SingleMuon_PU50_postSep26/181025_143812/0000/tuple_8.root does not exist\n",
      "Error in <TFile::TFile>: file /eos/cms/store/group/dpg_trigger/comm_trigger/L1Trigger/EMTF/ntuples/SingleMuon/FlatNtuple_Run_2018D_v2_2018_10_25_SingleMuon_PU50_postSep26/181025_143812/0000/tuple_8.root does not exist\n",
      "Error in <TFile::TFile>: file /eos/cms/store/group/dpg_trigger/comm_trigger/L1Trigger/EMTF/ntuples/SingleMuon/FlatNtuple_Run_2018D_v2_2018_10_25_SingleMuon_PU50_postSep26/181025_143812/0000/tuple_8.root does not exist\n",
      "Error in <TFile::TFile>: file /eos/cms/store/group/dpg_trigger/comm_trigger/L1Trigger/EMTF/ntuples/SingleMuon/FlatNtuple_Run_2018D_v2_2018_10_25_SingleMuon_PU50_postSep26/181025_143812/0000/tuple_9.root does not exist\n",
      "Error in <TFile::TFile>: file /eos/cms/store/group/dpg_trigger/comm_trigger/L1Trigger/EMTF/ntuples/SingleMuon/FlatNtuple_Run_2018D_v2_2018_10_25_SingleMuon_PU50_postSep26/181025_143812/0000/tuple_9.root does not exist\n",
      "Error in <TFile::TFile>: file /eos/cms/store/group/dpg_trigger/comm_trigger/L1Trigger/EMTF/ntuples/SingleMuon/FlatNtuple_Run_2018D_v2_2018_10_25_SingleMuon_PU50_postSep26/181025_143812/0000/tuple_9.root does not exist\n",
      "Error in <TFile::TFile>: file /eos/cms/store/group/dpg_trigger/comm_trigger/L1Trigger/EMTF/ntuples/SingleMuon/FlatNtuple_Run_2018D_v2_2018_10_25_SingleMuon_PU50_postSep26/181025_143812/0000/tuple_9.root does not exist\n",
      "Error in <TFile::TFile>: file /eos/cms/store/group/dpg_trigger/comm_trigger/L1Trigger/EMTF/ntuples/SingleMuon/FlatNtuple_Run_2018D_v2_2018_10_25_SingleMuon_PU50_postSep26/181025_143812/0000/tuple_10.root does not exist\n",
      "Error in <TFile::TFile>: file /eos/cms/store/group/dpg_trigger/comm_trigger/L1Trigger/EMTF/ntuples/SingleMuon/FlatNtuple_Run_2018D_v2_2018_10_25_SingleMuon_PU50_postSep26/181025_143812/0000/tuple_10.root does not exist\n",
      "Error in <TFile::TFile>: file /eos/cms/store/group/dpg_trigger/comm_trigger/L1Trigger/EMTF/ntuples/SingleMuon/FlatNtuple_Run_2018D_v2_2018_10_25_SingleMuon_PU50_postSep26/181025_143812/0000/tuple_10.root does not exist\n",
      "Error in <TFile::TFile>: file /eos/cms/store/group/dpg_trigger/comm_trigger/L1Trigger/EMTF/ntuples/SingleMuon/FlatNtuple_Run_2018D_v2_2018_10_25_SingleMuon_PU50_postSep26/181025_143812/0000/tuple_10.root does not exist\n",
      "Error in <TFile::TFile>: file /eos/cms/store/group/dpg_trigger/comm_trigger/L1Trigger/EMTF/ntuples/SingleMuon/FlatNtuple_Run_2018D_v2_2018_10_25_SingleMuon_PU50_postSep26/181025_143812/0000/tuple_11.root does not exist\n",
      "Error in <TFile::TFile>: file /eos/cms/store/group/dpg_trigger/comm_trigger/L1Trigger/EMTF/ntuples/SingleMuon/FlatNtuple_Run_2018D_v2_2018_10_25_SingleMuon_PU50_postSep26/181025_143812/0000/tuple_11.root does not exist\n",
      "Error in <TFile::TFile>: file /eos/cms/store/group/dpg_trigger/comm_trigger/L1Trigger/EMTF/ntuples/SingleMuon/FlatNtuple_Run_2018D_v2_2018_10_25_SingleMuon_PU50_postSep26/181025_143812/0000/tuple_11.root does not exist\n",
      "Error in <TFile::TFile>: file /eos/cms/store/group/dpg_trigger/comm_trigger/L1Trigger/EMTF/ntuples/SingleMuon/FlatNtuple_Run_2018D_v2_2018_10_25_SingleMuon_PU50_postSep26/181025_143812/0000/tuple_11.root does not exist\n",
      "Error in <TFile::TFile>: file /eos/cms/store/group/dpg_trigger/comm_trigger/L1Trigger/EMTF/ntuples/SingleMuon/FlatNtuple_Run_2018D_v2_2018_10_25_SingleMuon_PU50_postSep26/181025_143812/0000/tuple_12.root does not exist\n",
      "Error in <TFile::TFile>: file /eos/cms/store/group/dpg_trigger/comm_trigger/L1Trigger/EMTF/ntuples/SingleMuon/FlatNtuple_Run_2018D_v2_2018_10_25_SingleMuon_PU50_postSep26/181025_143812/0000/tuple_12.root does not exist\n",
      "Error in <TFile::TFile>: file /eos/cms/store/group/dpg_trigger/comm_trigger/L1Trigger/EMTF/ntuples/SingleMuon/FlatNtuple_Run_2018D_v2_2018_10_25_SingleMuon_PU50_postSep26/181025_143812/0000/tuple_12.root does not exist\n",
      "Error in <TFile::TFile>: file /eos/cms/store/group/dpg_trigger/comm_trigger/L1Trigger/EMTF/ntuples/SingleMuon/FlatNtuple_Run_2018D_v2_2018_10_25_SingleMuon_PU50_postSep26/181025_143812/0000/tuple_12.root does not exist\n",
      "Error in <TFile::TFile>: file /eos/cms/store/group/dpg_trigger/comm_trigger/L1Trigger/EMTF/ntuples/SingleMuon/FlatNtuple_Run_2018D_v2_2018_10_25_SingleMuon_PU50_postSep26/181025_143812/0000/tuple_13.root does not exist\n",
      "Error in <TFile::TFile>: file /eos/cms/store/group/dpg_trigger/comm_trigger/L1Trigger/EMTF/ntuples/SingleMuon/FlatNtuple_Run_2018D_v2_2018_10_25_SingleMuon_PU50_postSep26/181025_143812/0000/tuple_13.root does not exist\n",
      "Error in <TFile::TFile>: file /eos/cms/store/group/dpg_trigger/comm_trigger/L1Trigger/EMTF/ntuples/SingleMuon/FlatNtuple_Run_2018D_v2_2018_10_25_SingleMuon_PU50_postSep26/181025_143812/0000/tuple_13.root does not exist\n",
      "Error in <TFile::TFile>: file /eos/cms/store/group/dpg_trigger/comm_trigger/L1Trigger/EMTF/ntuples/SingleMuon/FlatNtuple_Run_2018D_v2_2018_10_25_SingleMuon_PU50_postSep26/181025_143812/0000/tuple_13.root does not exist\n",
      "Error in <TFile::TFile>: file /eos/cms/store/group/dpg_trigger/comm_trigger/L1Trigger/EMTF/ntuples/SingleMuon/FlatNtuple_Run_2018D_v2_2018_10_25_SingleMuon_PU50_postSep26/181025_143812/0000/tuple_14.root does not exist\n",
      "Error in <TFile::TFile>: file /eos/cms/store/group/dpg_trigger/comm_trigger/L1Trigger/EMTF/ntuples/SingleMuon/FlatNtuple_Run_2018D_v2_2018_10_25_SingleMuon_PU50_postSep26/181025_143812/0000/tuple_14.root does not exist\n",
      "Error in <TFile::TFile>: file /eos/cms/store/group/dpg_trigger/comm_trigger/L1Trigger/EMTF/ntuples/SingleMuon/FlatNtuple_Run_2018D_v2_2018_10_25_SingleMuon_PU50_postSep26/181025_143812/0000/tuple_14.root does not exist\n",
      "Error in <TFile::TFile>: file /eos/cms/store/group/dpg_trigger/comm_trigger/L1Trigger/EMTF/ntuples/SingleMuon/FlatNtuple_Run_2018D_v2_2018_10_25_SingleMuon_PU50_postSep26/181025_143812/0000/tuple_14.root does not exist\n",
      "Error in <TFile::TFile>: file /eos/cms/store/group/dpg_trigger/comm_trigger/L1Trigger/EMTF/ntuples/SingleMuon/FlatNtuple_Run_2018D_v2_2018_10_25_SingleMuon_PU50_postSep26/181025_143812/0000/tuple_15.root does not exist\n",
      "Error in <TFile::TFile>: file /eos/cms/store/group/dpg_trigger/comm_trigger/L1Trigger/EMTF/ntuples/SingleMuon/FlatNtuple_Run_2018D_v2_2018_10_25_SingleMuon_PU50_postSep26/181025_143812/0000/tuple_15.root does not exist\n",
      "Error in <TFile::TFile>: file /eos/cms/store/group/dpg_trigger/comm_trigger/L1Trigger/EMTF/ntuples/SingleMuon/FlatNtuple_Run_2018D_v2_2018_10_25_SingleMuon_PU50_postSep26/181025_143812/0000/tuple_15.root does not exist\n",
      "Error in <TFile::TFile>: file /eos/cms/store/group/dpg_trigger/comm_trigger/L1Trigger/EMTF/ntuples/SingleMuon/FlatNtuple_Run_2018D_v2_2018_10_25_SingleMuon_PU50_postSep26/181025_143812/0000/tuple_15.root does not exist\n",
      "Error in <TFile::TFile>: file /eos/cms/store/group/dpg_trigger/comm_trigger/L1Trigger/EMTF/ntuples/SingleMuon/FlatNtuple_Run_2018D_v2_2018_10_25_SingleMuon_PU50_postSep26/181025_143812/0000/tuple_16.root does not exist\n",
      "Error in <TFile::TFile>: file /eos/cms/store/group/dpg_trigger/comm_trigger/L1Trigger/EMTF/ntuples/SingleMuon/FlatNtuple_Run_2018D_v2_2018_10_25_SingleMuon_PU50_postSep26/181025_143812/0000/tuple_16.root does not exist\n",
      "Error in <TFile::TFile>: file /eos/cms/store/group/dpg_trigger/comm_trigger/L1Trigger/EMTF/ntuples/SingleMuon/FlatNtuple_Run_2018D_v2_2018_10_25_SingleMuon_PU50_postSep26/181025_143812/0000/tuple_16.root does not exist\n",
      "Error in <TFile::TFile>: file /eos/cms/store/group/dpg_trigger/comm_trigger/L1Trigger/EMTF/ntuples/SingleMuon/FlatNtuple_Run_2018D_v2_2018_10_25_SingleMuon_PU50_postSep26/181025_143812/0000/tuple_16.root does not exist\n",
      "Error in <TFile::TFile>: file /eos/cms/store/group/dpg_trigger/comm_trigger/L1Trigger/EMTF/ntuples/SingleMuon/FlatNtuple_Run_2018D_v2_2018_10_25_SingleMuon_PU50_postSep26/181025_143812/0000/tuple_17.root does not exist\n",
      "Error in <TFile::TFile>: file /eos/cms/store/group/dpg_trigger/comm_trigger/L1Trigger/EMTF/ntuples/SingleMuon/FlatNtuple_Run_2018D_v2_2018_10_25_SingleMuon_PU50_postSep26/181025_143812/0000/tuple_17.root does not exist\n",
      "Error in <TFile::TFile>: file /eos/cms/store/group/dpg_trigger/comm_trigger/L1Trigger/EMTF/ntuples/SingleMuon/FlatNtuple_Run_2018D_v2_2018_10_25_SingleMuon_PU50_postSep26/181025_143812/0000/tuple_17.root does not exist\n",
      "Error in <TFile::TFile>: file /eos/cms/store/group/dpg_trigger/comm_trigger/L1Trigger/EMTF/ntuples/SingleMuon/FlatNtuple_Run_2018D_v2_2018_10_25_SingleMuon_PU50_postSep26/181025_143812/0000/tuple_17.root does not exist\n",
      "Error in <TFile::TFile>: file /eos/cms/store/group/dpg_trigger/comm_trigger/L1Trigger/EMTF/ntuples/SingleMuon/FlatNtuple_Run_2018D_v2_2018_10_25_SingleMuon_PU50_postSep26/181025_143812/0000/tuple_18.root does not exist\n",
      "Error in <TFile::TFile>: file /eos/cms/store/group/dpg_trigger/comm_trigger/L1Trigger/EMTF/ntuples/SingleMuon/FlatNtuple_Run_2018D_v2_2018_10_25_SingleMuon_PU50_postSep26/181025_143812/0000/tuple_18.root does not exist\n",
      "Error in <TFile::TFile>: file /eos/cms/store/group/dpg_trigger/comm_trigger/L1Trigger/EMTF/ntuples/SingleMuon/FlatNtuple_Run_2018D_v2_2018_10_25_SingleMuon_PU50_postSep26/181025_143812/0000/tuple_18.root does not exist\n",
      "Error in <TFile::TFile>: file /eos/cms/store/group/dpg_trigger/comm_trigger/L1Trigger/EMTF/ntuples/SingleMuon/FlatNtuple_Run_2018D_v2_2018_10_25_SingleMuon_PU50_postSep26/181025_143812/0000/tuple_18.root does not exist\n",
      "Error in <TFile::TFile>: file /eos/cms/store/group/dpg_trigger/comm_trigger/L1Trigger/EMTF/ntuples/SingleMuon/FlatNtuple_Run_2018D_v2_2018_10_25_SingleMuon_PU50_postSep26/181025_143812/0000/tuple_19.root does not exist\n",
      "Error in <TFile::TFile>: file /eos/cms/store/group/dpg_trigger/comm_trigger/L1Trigger/EMTF/ntuples/SingleMuon/FlatNtuple_Run_2018D_v2_2018_10_25_SingleMuon_PU50_postSep26/181025_143812/0000/tuple_19.root does not exist\n",
      "Error in <TFile::TFile>: file /eos/cms/store/group/dpg_trigger/comm_trigger/L1Trigger/EMTF/ntuples/SingleMuon/FlatNtuple_Run_2018D_v2_2018_10_25_SingleMuon_PU50_postSep26/181025_143812/0000/tuple_19.root does not exist\n",
      "Error in <TFile::TFile>: file /eos/cms/store/group/dpg_trigger/comm_trigger/L1Trigger/EMTF/ntuples/SingleMuon/FlatNtuple_Run_2018D_v2_2018_10_25_SingleMuon_PU50_postSep26/181025_143812/0000/tuple_19.root does not exist\n",
      "Error in <TFile::TFile>: file /eos/cms/store/group/dpg_trigger/comm_trigger/L1Trigger/EMTF/ntuples/SingleMuon/FlatNtuple_Run_2018D_v2_2018_10_25_SingleMuon_PU50_postSep26/181025_143812/0000/tuple_20.root does not exist\n",
      "Error in <TFile::TFile>: file /eos/cms/store/group/dpg_trigger/comm_trigger/L1Trigger/EMTF/ntuples/SingleMuon/FlatNtuple_Run_2018D_v2_2018_10_25_SingleMuon_PU50_postSep26/181025_143812/0000/tuple_20.root does not exist\n",
      "Error in <TFile::TFile>: file /eos/cms/store/group/dpg_trigger/comm_trigger/L1Trigger/EMTF/ntuples/SingleMuon/FlatNtuple_Run_2018D_v2_2018_10_25_SingleMuon_PU50_postSep26/181025_143812/0000/tuple_20.root does not exist\n",
      "Error in <TFile::TFile>: file /eos/cms/store/group/dpg_trigger/comm_trigger/L1Trigger/EMTF/ntuples/SingleMuon/FlatNtuple_Run_2018D_v2_2018_10_25_SingleMuon_PU50_postSep26/181025_143812/0000/tuple_20.root does not exist\n",
      "Error in <TFile::TFile>: file /eos/cms/store/group/dpg_trigger/comm_trigger/L1Trigger/EMTF/ntuples/SingleMuon/FlatNtuple_Run_2018D_v2_2018_10_25_SingleMuon_PU50_postSep26/181025_143812/0000/tuple_21.root does not exist\n",
      "Error in <TFile::TFile>: file /eos/cms/store/group/dpg_trigger/comm_trigger/L1Trigger/EMTF/ntuples/SingleMuon/FlatNtuple_Run_2018D_v2_2018_10_25_SingleMuon_PU50_postSep26/181025_143812/0000/tuple_21.root does not exist\n",
      "Error in <TFile::TFile>: file /eos/cms/store/group/dpg_trigger/comm_trigger/L1Trigger/EMTF/ntuples/SingleMuon/FlatNtuple_Run_2018D_v2_2018_10_25_SingleMuon_PU50_postSep26/181025_143812/0000/tuple_21.root does not exist\n",
      "Error in <TFile::TFile>: file /eos/cms/store/group/dpg_trigger/comm_trigger/L1Trigger/EMTF/ntuples/SingleMuon/FlatNtuple_Run_2018D_v2_2018_10_25_SingleMuon_PU50_postSep26/181025_143812/0000/tuple_21.root does not exist\n",
      "Error in <TFile::TFile>: file /eos/cms/store/group/dpg_trigger/comm_trigger/L1Trigger/EMTF/ntuples/SingleMuon/FlatNtuple_Run_2018D_v2_2018_10_25_SingleMuon_PU50_postSep26/181025_143812/0000/tuple_22.root does not exist\n",
      "Error in <TFile::TFile>: file /eos/cms/store/group/dpg_trigger/comm_trigger/L1Trigger/EMTF/ntuples/SingleMuon/FlatNtuple_Run_2018D_v2_2018_10_25_SingleMuon_PU50_postSep26/181025_143812/0000/tuple_22.root does not exist\n",
      "Error in <TFile::TFile>: file /eos/cms/store/group/dpg_trigger/comm_trigger/L1Trigger/EMTF/ntuples/SingleMuon/FlatNtuple_Run_2018D_v2_2018_10_25_SingleMuon_PU50_postSep26/181025_143812/0000/tuple_22.root does not exist\n",
      "Error in <TFile::TFile>: file /eos/cms/store/group/dpg_trigger/comm_trigger/L1Trigger/EMTF/ntuples/SingleMuon/FlatNtuple_Run_2018D_v2_2018_10_25_SingleMuon_PU50_postSep26/181025_143812/0000/tuple_22.root does not exist\n",
      "Error in <TFile::TFile>: file /eos/cms/store/group/dpg_trigger/comm_trigger/L1Trigger/EMTF/ntuples/SingleMuon/FlatNtuple_Run_2018D_v2_2018_10_25_SingleMuon_PU50_postSep26/181025_143812/0000/tuple_23.root does not exist\n",
      "Error in <TFile::TFile>: file /eos/cms/store/group/dpg_trigger/comm_trigger/L1Trigger/EMTF/ntuples/SingleMuon/FlatNtuple_Run_2018D_v2_2018_10_25_SingleMuon_PU50_postSep26/181025_143812/0000/tuple_23.root does not exist\n",
      "Error in <TFile::TFile>: file /eos/cms/store/group/dpg_trigger/comm_trigger/L1Trigger/EMTF/ntuples/SingleMuon/FlatNtuple_Run_2018D_v2_2018_10_25_SingleMuon_PU50_postSep26/181025_143812/0000/tuple_23.root does not exist\n",
      "Error in <TFile::TFile>: file /eos/cms/store/group/dpg_trigger/comm_trigger/L1Trigger/EMTF/ntuples/SingleMuon/FlatNtuple_Run_2018D_v2_2018_10_25_SingleMuon_PU50_postSep26/181025_143812/0000/tuple_23.root does not exist\n",
      "Error in <TFile::TFile>: file /eos/cms/store/group/dpg_trigger/comm_trigger/L1Trigger/EMTF/ntuples/SingleMuon/FlatNtuple_Run_2018D_v2_2018_10_25_SingleMuon_PU50_postSep26/181025_143812/0000/tuple_24.root does not exist\n",
      "Error in <TFile::TFile>: file /eos/cms/store/group/dpg_trigger/comm_trigger/L1Trigger/EMTF/ntuples/SingleMuon/FlatNtuple_Run_2018D_v2_2018_10_25_SingleMuon_PU50_postSep26/181025_143812/0000/tuple_24.root does not exist\n",
      "Error in <TFile::TFile>: file /eos/cms/store/group/dpg_trigger/comm_trigger/L1Trigger/EMTF/ntuples/SingleMuon/FlatNtuple_Run_2018D_v2_2018_10_25_SingleMuon_PU50_postSep26/181025_143812/0000/tuple_24.root does not exist\n",
      "Error in <TFile::TFile>: file /eos/cms/store/group/dpg_trigger/comm_trigger/L1Trigger/EMTF/ntuples/SingleMuon/FlatNtuple_Run_2018D_v2_2018_10_25_SingleMuon_PU50_postSep26/181025_143812/0000/tuple_24.root does not exist\n",
      "Error in <TFile::TFile>: file /eos/cms/store/group/dpg_trigger/comm_trigger/L1Trigger/EMTF/ntuples/SingleMuon/FlatNtuple_Run_2018D_v2_2018_10_25_SingleMuon_PU50_postSep26/181025_143812/0000/tuple_25.root does not exist\n",
      "Error in <TFile::TFile>: file /eos/cms/store/group/dpg_trigger/comm_trigger/L1Trigger/EMTF/ntuples/SingleMuon/FlatNtuple_Run_2018D_v2_2018_10_25_SingleMuon_PU50_postSep26/181025_143812/0000/tuple_25.root does not exist\n",
      "Error in <TFile::TFile>: file /eos/cms/store/group/dpg_trigger/comm_trigger/L1Trigger/EMTF/ntuples/SingleMuon/FlatNtuple_Run_2018D_v2_2018_10_25_SingleMuon_PU50_postSep26/181025_143812/0000/tuple_25.root does not exist\n",
      "Error in <TFile::TFile>: file /eos/cms/store/group/dpg_trigger/comm_trigger/L1Trigger/EMTF/ntuples/SingleMuon/FlatNtuple_Run_2018D_v2_2018_10_25_SingleMuon_PU50_postSep26/181025_143812/0000/tuple_25.root does not exist\n"
     ]
    }
   ],
   "source": [
    "in_chains"
   ]
  },
  {
   "cell_type": "code",
   "execution_count": null,
   "metadata": {},
   "outputs": [],
   "source": []
  }
 ],
 "metadata": {
  "kernelspec": {
   "display_name": "Python (myenv)",
   "language": "python",
   "name": "myenv"
  },
  "language_info": {
   "codemirror_mode": {
    "name": "ipython",
    "version": 2
   },
   "file_extension": ".py",
   "mimetype": "text/x-python",
   "name": "python",
   "nbconvert_exporter": "python",
   "pygments_lexer": "ipython2",
   "version": "2.7.11"
  }
 },
 "nbformat": 4,
 "nbformat_minor": 2
}
