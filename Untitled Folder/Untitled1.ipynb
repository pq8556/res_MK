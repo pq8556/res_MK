{
 "cells": [
  {
   "cell_type": "code",
   "execution_count": 1,
   "metadata": {},
   "outputs": [],
   "source": [
    "import numpy as np\n",
    "\n",
    "data1 = np.load(\"/uscms_data/d3/mkim/MKWorkingArea/CMSSW_10_2_0/src/JL/Melrose/P2_CMSSW_10_1_5/src/L1TMuonSimulations/Analyzers/test7/histos_tba.20.npz\")\n",
    "\n",
    "X_org = data1[\"variables\"]\n",
    "y_org = data1[\"parameters\"]"
   ]
  },
  {
   "cell_type": "code",
   "execution_count": 22,
   "metadata": {},
   "outputs": [
    {
     "data": {
      "text/plain": [
       "array([3568., 2608., 1440., 3328., 4648., 4024.,   nan, 3808., 3976.,\n",
       "       1872., 4098., 1532., 3336., 2168.,   nan,   nan,   nan,   nan,\n",
       "       2818.,   nan], dtype=float32)"
      ]
     },
     "execution_count": 22,
     "metadata": {},
     "output_type": "execute_result"
    }
   ],
   "source": [
    "X_org[:20,3]"
   ]
  },
  {
   "cell_type": "code",
   "execution_count": 16,
   "metadata": {},
   "outputs": [],
   "source": [
    "X_org_t1 = np.logical_and(np.isnan(X_org[:,2]), np.isnan(X_org[:,3]))"
   ]
  },
  {
   "cell_type": "code",
   "execution_count": 51,
   "metadata": {
    "scrolled": true
   },
   "outputs": [],
   "source": [
    "a3 = ~np.isnan(X_org[:,3])\n",
    "\n",
    "a4 = ~np.isnan(X_org[:,4])\n",
    "\n",
    "a2 = ~np.isnan(X_org[:,2])\n",
    "\n",
    "a0 = ~np.isnan(X_org[:,0])\n",
    "\n",
    "a1 = ~np.isnan(X_org[:,1])\n",
    "\n",
    "aa = np.logical_and(np.logical_and(np.logical_and(a3,a4),a2),a0)"
   ]
  },
  {
   "cell_type": "code",
   "execution_count": 52,
   "metadata": {},
   "outputs": [
    {
     "data": {
      "text/plain": [
       "array([False, False, False, ..., False, False, False])"
      ]
     },
     "execution_count": 52,
     "metadata": {},
     "output_type": "execute_result"
    }
   ],
   "source": [
    "aa"
   ]
  },
  {
   "cell_type": "code",
   "execution_count": 67,
   "metadata": {},
   "outputs": [],
   "source": [
    "X_t1 = X_org[aa,:5].copy()"
   ]
  },
  {
   "cell_type": "code",
   "execution_count": 61,
   "metadata": {},
   "outputs": [
    {
     "data": {
      "text/plain": [
       "array([[3484.,   nan, 3328., 3328., 3360.],\n",
       "       [3875.,   nan, 4008., 4024., 4032.],\n",
       "       [4269.,   nan, 4022., 3976., 3928.],\n",
       "       ...,\n",
       "       [3932.,   nan, 3806., 3776., 3784.],\n",
       "       [2477.,   nan, 2432., 2422., 2424.],\n",
       "       [4328.,   nan, 4232., 4200., 4176.]], dtype=float32)"
      ]
     },
     "execution_count": 61,
     "metadata": {},
     "output_type": "execute_result"
    }
   ],
   "source": [
    "n"
   ]
  },
  {
   "cell_type": "code",
   "execution_count": 68,
   "metadata": {},
   "outputs": [],
   "source": [
    "X = np.delete(X_t1, 1, 1)"
   ]
  },
  {
   "cell_type": "code",
   "execution_count": 155,
   "metadata": {},
   "outputs": [
    {
     "data": {
      "text/plain": [
       "array([[3484., 3328., 3328., 3360.],\n",
       "       [3875., 4008., 4024., 4032.],\n",
       "       [4269., 4022., 3976., 3928.],\n",
       "       ...,\n",
       "       [3932., 3806., 3776., 3784.],\n",
       "       [2477., 2432., 2422., 2424.],\n",
       "       [4328., 4232., 4200., 4176.]], dtype=float32)"
      ]
     },
     "execution_count": 155,
     "metadata": {},
     "output_type": "execute_result"
    }
   ],
   "source": [
    "X"
   ]
  },
  {
   "cell_type": "code",
   "execution_count": 160,
   "metadata": {},
   "outputs": [
    {
     "data": {
      "text/plain": [
       "144.0"
      ]
     },
     "execution_count": 160,
     "metadata": {},
     "output_type": "execute_result"
    }
   ],
   "source": [
    "np.min(X)"
   ]
  },
  {
   "cell_type": "code",
   "execution_count": 159,
   "metadata": {},
   "outputs": [
    {
     "data": {
      "text/plain": [
       "4987.0"
      ]
     },
     "execution_count": 159,
     "metadata": {},
     "output_type": "execute_result"
    }
   ],
   "source": [
    "np.max(X)"
   ]
  },
  {
   "cell_type": "code",
   "execution_count": 163,
   "metadata": {},
   "outputs": [
    {
     "data": {
      "text/plain": [
       "2910.763"
      ]
     },
     "execution_count": 163,
     "metadata": {},
     "output_type": "execute_result"
    }
   ],
   "source": [
    "np.mean(X)"
   ]
  },
  {
   "cell_type": "code",
   "execution_count": 182,
   "metadata": {},
   "outputs": [],
   "source": [
    "X_norm = X/50."
   ]
  },
  {
   "cell_type": "code",
   "execution_count": 162,
   "metadata": {},
   "outputs": [
    {
     "data": {
      "text/plain": [
       "array([[0.6968, 0.6656, 0.6656, 0.672 ],\n",
       "       [0.775 , 0.8016, 0.8048, 0.8064],\n",
       "       [0.8538, 0.8044, 0.7952, 0.7856],\n",
       "       ...,\n",
       "       [0.7864, 0.7612, 0.7552, 0.7568],\n",
       "       [0.4954, 0.4864, 0.4844, 0.4848],\n",
       "       [0.8656, 0.8464, 0.84  , 0.8352]], dtype=float32)"
      ]
     },
     "execution_count": 162,
     "metadata": {},
     "output_type": "execute_result"
    }
   ],
   "source": [
    "X_norm"
   ]
  },
  {
   "cell_type": "code",
   "execution_count": 74,
   "metadata": {},
   "outputs": [
    {
     "data": {
      "text/plain": [
       "(1179356, 4)"
      ]
     },
     "execution_count": 74,
     "metadata": {},
     "output_type": "execute_result"
    }
   ],
   "source": [
    "X.shape"
   ]
  },
  {
   "cell_type": "code",
   "execution_count": 75,
   "metadata": {},
   "outputs": [
    {
     "data": {
      "text/plain": [
       "(1179356, 3)"
      ]
     },
     "execution_count": 75,
     "metadata": {},
     "output_type": "execute_result"
    }
   ],
   "source": [
    "y_org[aa].shape"
   ]
  },
  {
   "cell_type": "code",
   "execution_count": 78,
   "metadata": {},
   "outputs": [],
   "source": [
    "y = y_org[aa,0].copy()"
   ]
  },
  {
   "cell_type": "code",
   "execution_count": 79,
   "metadata": {},
   "outputs": [
    {
     "data": {
      "text/plain": [
       "array([ 0.18120895, -0.14613128,  0.36702442, ...,  0.173085  ,\n",
       "        0.08566158,  0.18906492], dtype=float32)"
      ]
     },
     "execution_count": 79,
     "metadata": {},
     "output_type": "execute_result"
    }
   ],
   "source": [
    "y"
   ]
  },
  {
   "cell_type": "code",
   "execution_count": 76,
   "metadata": {},
   "outputs": [],
   "source": [
    "from sklearn.linear_model import LinearRegression"
   ]
  },
  {
   "cell_type": "code",
   "execution_count": 80,
   "metadata": {},
   "outputs": [],
   "source": [
    "reg = LinearRegression().fit(X, y)"
   ]
  },
  {
   "cell_type": "code",
   "execution_count": 81,
   "metadata": {},
   "outputs": [
    {
     "data": {
      "text/plain": [
       "0.9017609618806103"
      ]
     },
     "execution_count": 81,
     "metadata": {},
     "output_type": "execute_result"
    }
   ],
   "source": [
    "reg.score(X,y)"
   ]
  },
  {
   "cell_type": "code",
   "execution_count": 86,
   "metadata": {},
   "outputs": [],
   "source": [
    "y_p = reg.predict(X)"
   ]
  },
  {
   "cell_type": "code",
   "execution_count": 91,
   "metadata": {},
   "outputs": [
    {
     "data": {
      "text/plain": [
       "array([ 0.19366655, -0.16283312,  0.30214462, ...,  0.16964528,\n",
       "        0.05971243,  0.12485667], dtype=float32)"
      ]
     },
     "execution_count": 91,
     "metadata": {},
     "output_type": "execute_result"
    }
   ],
   "source": [
    "y_p"
   ]
  },
  {
   "cell_type": "code",
   "execution_count": 83,
   "metadata": {},
   "outputs": [
    {
     "data": {
      "text/plain": [
       "array([ 0.18120895, -0.14613128,  0.36702442, ...,  0.173085  ,\n",
       "        0.08566158,  0.18906492], dtype=float32)"
      ]
     },
     "execution_count": 83,
     "metadata": {},
     "output_type": "execute_result"
    }
   ],
   "source": [
    "y"
   ]
  },
  {
   "cell_type": "code",
   "execution_count": 92,
   "metadata": {},
   "outputs": [],
   "source": [
    "delta_y = y - y_p"
   ]
  },
  {
   "cell_type": "code",
   "execution_count": 95,
   "metadata": {},
   "outputs": [],
   "source": [
    "delta2 = delta_y/y"
   ]
  },
  {
   "cell_type": "code",
   "execution_count": 109,
   "metadata": {},
   "outputs": [
    {
     "data": {
      "text/plain": [
       "array([-0.06874713, -0.11429345,  0.17677245, -0.02701155,  0.6284125 ,\n",
       "        0.00829016,  0.17094463,  0.22065249,  0.02268441, -0.15637788,\n",
       "       -0.33476734, -0.385205  ,  0.12924375, -0.19304879, -0.17326382,\n",
       "       -0.35711476,  0.58307517,  0.365613  , -0.17654589,  0.2316124 ,\n",
       "       -0.00490206, -0.20375356,  0.1215951 ,  0.5210974 ,  0.22028567,\n",
       "        0.402099  ,  0.30198783,  0.6108856 ,  0.5241056 , -0.20223445,\n",
       "       -0.01375685, -0.23262681,  0.12014196, -0.1274179 , -0.47561336,\n",
       "        0.8910696 ,  0.11856171,  0.24288103, -0.1452581 ,  0.02155134,\n",
       "        0.34356713,  0.06186139,  0.46211308, -0.00824966, -0.05282355,\n",
       "       -0.6355405 , -0.01320293,  0.20076558,  0.4350542 ,  0.43161324,\n",
       "       -0.29264542, -0.2423673 ,  0.2306969 , -0.00343489,  0.19723733,\n",
       "       -0.22433577, -0.02380239, -0.29532802,  0.34169924,  0.4864094 ,\n",
       "        0.38731384, -0.40846026, -0.13584322,  0.13554683, -0.6225132 ,\n",
       "        0.0227128 , -0.6009711 ,  0.08220595, -2.4351447 ,  0.4974409 ,\n",
       "        0.7008834 ,  0.5292473 ,  0.08770932,  0.2297637 ,  0.25977913,\n",
       "        0.61449796, -0.29037473,  0.44015974,  0.05996829,  0.50183696,\n",
       "       -0.13917047,  0.28433836,  0.6505021 ,  0.35397124,  0.12481862,\n",
       "        0.00835896,  0.29715827, -0.4794064 ,  0.00361862,  0.28908548,\n",
       "        0.35933125,  0.06254909,  0.50054497,  0.2941507 , -0.07991225,\n",
       "       -0.01341839,  0.3293102 ,  0.00333791,  0.06838512,  0.11911134],\n",
       "      dtype=float32)"
      ]
     },
     "execution_count": 109,
     "metadata": {},
     "output_type": "execute_result"
    }
   ],
   "source": [
    "delta2[:100]"
   ]
  },
  {
   "cell_type": "code",
   "execution_count": 101,
   "metadata": {},
   "outputs": [
    {
     "data": {
      "text/plain": [
       "0.1307897"
      ]
     },
     "execution_count": 101,
     "metadata": {},
     "output_type": "execute_result"
    }
   ],
   "source": [
    "delta2.mean()"
   ]
  },
  {
   "cell_type": "code",
   "execution_count": 84,
   "metadata": {},
   "outputs": [],
   "source": [
    "import matplotlib.pyplot as plt"
   ]
  },
  {
   "cell_type": "code",
   "execution_count": 85,
   "metadata": {},
   "outputs": [],
   "source": [
    "%matplotlib inline"
   ]
  },
  {
   "cell_type": "code",
   "execution_count": 119,
   "metadata": {},
   "outputs": [],
   "source": [
    "from sklearn.gaussian_process import GaussianProcessRegressor"
   ]
  },
  {
   "cell_type": "code",
   "execution_count": null,
   "metadata": {},
   "outputs": [],
   "source": [
    "from sklearn.gaussian_process.kernels import RBF, ConstantKernel as C"
   ]
  },
  {
   "cell_type": "code",
   "execution_count": 121,
   "metadata": {},
   "outputs": [],
   "source": [
    "from sklearn.gaussian_process.kernels import DotProduct, WhiteKernel"
   ]
  },
  {
   "cell_type": "code",
   "execution_count": 122,
   "metadata": {},
   "outputs": [],
   "source": [
    "kernel = DotProduct() + WhiteKernel()"
   ]
  },
  {
   "cell_type": "code",
   "execution_count": 183,
   "metadata": {},
   "outputs": [],
   "source": [
    "gpr = GaussianProcessRegressor().fit(X_norm[::100], y[::100])"
   ]
  },
  {
   "cell_type": "code",
   "execution_count": 184,
   "metadata": {},
   "outputs": [
    {
     "data": {
      "text/plain": [
       "0.99999900331307"
      ]
     },
     "execution_count": 184,
     "metadata": {},
     "output_type": "execute_result"
    }
   ],
   "source": [
    "gpr.score(X_norm[::100],y[::100])"
   ]
  },
  {
   "cell_type": "code",
   "execution_count": 185,
   "metadata": {},
   "outputs": [
    {
     "data": {
      "text/plain": [
       "array([ 0.18120895, -0.14613128,  0.36702442,  0.26777416, -0.01917913,\n",
       "       -0.13852419, -0.13967438,  0.38179228,  0.03491518, -0.21119532],\n",
       "      dtype=float32)"
      ]
     },
     "execution_count": 185,
     "metadata": {},
     "output_type": "execute_result"
    }
   ],
   "source": [
    "y[:10]"
   ]
  },
  {
   "cell_type": "code",
   "execution_count": 167,
   "metadata": {},
   "outputs": [
    {
     "data": {
      "text/plain": [
       "array([ 0.04711644, -0.2728442 ,  0.16674727,  0.14241658], dtype=float32)"
      ]
     },
     "execution_count": 167,
     "metadata": {},
     "output_type": "execute_result"
    }
   ],
   "source": [
    "y[98:102]"
   ]
  },
  {
   "cell_type": "code",
   "execution_count": 186,
   "metadata": {},
   "outputs": [],
   "source": [
    "y_p = gpr.predict(X_norm[:10])"
   ]
  },
  {
   "cell_type": "code",
   "execution_count": 181,
   "metadata": {},
   "outputs": [
    {
     "data": {
      "text/plain": [
       "array([ 0.25219154, -0.19275972,  0.29307628,  0.32475281, -0.01067185,\n",
       "       -0.1739769 , -0.13852733,  0.37893581,  0.03953934, -0.28737068])"
      ]
     },
     "execution_count": 181,
     "metadata": {},
     "output_type": "execute_result"
    }
   ],
   "source": [
    "y_p"
   ]
  },
  {
   "cell_type": "code",
   "execution_count": 172,
   "metadata": {},
   "outputs": [
    {
     "data": {
      "text/plain": [
       "<matplotlib.collections.PathCollection at 0x7f55afdcae10>"
      ]
     },
     "execution_count": 172,
     "metadata": {},
     "output_type": "execute_result"
    },
    {
     "data": {
      "image/png": "[encoded data removed]",
      "text/plain": [
       "<matplotlib.figure.Figure at 0x7f55afe29fd0>"
      ]
     },
     "metadata": {},
     "output_type": "display_data"
    }
   ],
   "source": [
    "plt.scatter(y[::100], y_p)\n"
   ]
  },
  {
   "cell_type": "code",
   "execution_count": null,
   "metadata": {},
   "outputs": [],
   "source": []
  }
 ],
 "metadata": {
  "kernelspec": {
   "display_name": "Python (myenv)",
   "language": "python",
   "name": "myenv"
  },
  "language_info": {
   "codemirror_mode": {
    "name": "ipython",
    "version": 2
   },
   "file_extension": ".py",
   "mimetype": "text/x-python",
   "name": "python",
   "nbconvert_exporter": "python",
   "pygments_lexer": "ipython2",
   "version": "2.7.11"
  }
 },
 "nbformat": 4,
 "nbformat_minor": 2
}
